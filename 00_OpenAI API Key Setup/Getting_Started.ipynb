{
 "cells": [
  {
   "cell_type": "code",
   "execution_count": null,
   "metadata": {},
   "outputs": [],
   "source": [
    "import os\n",
    "import openai\n",
    "from dotenv import load_dotenv\n",
    "# Load environment variables from .env file\n",
    "load_dotenv()\n",
    "\n",
    "def main():\n",
    "    # Set up OpenAI API key\n",
    "    api_key = os.getenv(\"OPENAI_API_KEY\")\n",
    "    \n",
    "    # If environment variable isn't set, you can hardcode it (not recommended for production)\n",
    "    if not api_key:\n",
    "        print(\"Please set the OPENAI_API_KEY environment variable\")\n",
    "        return\n",
    "    \n",
    "    try:\n",
    "        client = openai.OpenAI(api_key=api_key)\n",
    "        \n",
    "        # Create a completion\n",
    "        response = client.responses.create(\n",
    "            model=\"gpt-4o\",\n",
    "            instructions=\"You are a coding assistant that talks like a pirate.\",\n",
    "            input=\"How do I check if a Python object is an instance of a class?\",\n",
    "        )\n",
    "\n",
    "        print(\"Generated text:\")\n",
    "        print(response.output_text)\n",
    "        \n",
    "    except Exception as e:\n",
    "        print(f\"Error occurred: {e}\")\n",
    "\n",
    "\n",
    "\n",
    "main()\n"
   ]
  }
 ],
 "metadata": {
  "kernelspec": {
   "display_name": ".venv",
   "language": "python",
   "name": "python3"
  },
  "language_info": {
   "codemirror_mode": {
    "name": "ipython",
    "version": 3
   },
   "file_extension": ".py",
   "mimetype": "text/x-python",
   "name": "python",
   "nbconvert_exporter": "python",
   "pygments_lexer": "ipython3",
   "version": "3.12.3"
  }
 },
 "nbformat": 4,
 "nbformat_minor": 2
}
