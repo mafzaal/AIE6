{
 "cells": [
  {
   "cell_type": "code",
   "execution_count": 1,
   "metadata": {},
   "outputs": [],
   "source": [
    "from langchain_ollama import ChatOllama\n",
    "\n",
    "llm = ChatOllama(model=\"deepseek-r1:8b\")"
   ]
  },
  {
   "cell_type": "code",
   "execution_count": 2,
   "metadata": {},
   "outputs": [
    {
     "name": "stdout",
     "output_type": "stream",
     "text": [
      "<think>\n",
      "To find the cube root of 27, I start by recognizing that 27 is a perfect cube. Specifically, it is \\(3^3\\), which means the cube root of 27 is 3.\n",
      "\n",
      "I can confirm this by dividing 27 by 3 repeatedly: 27 divided by 3 is 9, and 9 divided by 3 is 4, but since 4 isn't divisible by 3, I realize that my initial approach might be incorrect. However, upon revisiting the definition of cube roots, I understand that each factor of the number must be divided by 3 once to find the cube root.\n",
      "\n",
      "Therefore, the correct cube root of 27 is indeed 3.\n",
      "</think>\n",
      "\n",
      "To find the **cube root** of **27**, follow these steps:\n",
      "\n",
      "1. **Understand the Concept:**\n",
      "   \n",
      "   The cube root of a number \\( x \\), denoted as \\( \\sqrt[3]{x} \\), is a number that, when multiplied by itself twice more (i.e., cubed), gives \\( x \\).\n",
      "\n",
      "2. **Apply to the Given Number:**\n",
      "   \n",
      "   We need to find:\n",
      "   \\[\n",
      "   \\sqrt[3]{27}\n",
      "   \\]\n",
      "\n",
      "3. **Calculate:**\n",
      "   \n",
      "   - Recognize that \\( 27 = 3^3 \\).\n",
      "   - Therefore:\n",
      "     \\[\n",
      "     \\sqrt[3]{27} = \\sqrt[3]{3^3} = 3\n",
      "     \\]\n",
      "   \n",
      "4. **Final Answer:**\n",
      "   \n",
      "   \\[\n",
      "   \\boxed{3}\n",
      "   \\]"
     ]
    }
   ],
   "source": [
    "for chunk in llm.stream(\"What is the 3rd root of 27?\"):\n",
    "    print(chunk.content, end=\"\")"
   ]
  }
 ],
 "metadata": {
  "kernelspec": {
   "display_name": ".venv",
   "language": "python",
   "name": "python3"
  },
  "language_info": {
   "codemirror_mode": {
    "name": "ipython",
    "version": 3
   },
   "file_extension": ".py",
   "mimetype": "text/x-python",
   "name": "python",
   "nbconvert_exporter": "python",
   "pygments_lexer": "ipython3",
   "version": "3.13.2"
  }
 },
 "nbformat": 4,
 "nbformat_minor": 2
}
