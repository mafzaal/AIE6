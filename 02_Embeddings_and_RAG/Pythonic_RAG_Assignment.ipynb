{
  "cells": [
    {
      "cell_type": "markdown",
      "metadata": {
        "id": "lElF3o5PR6ys"
      },
      "source": [
        "# Your First RAG Application\n",
        "\n",
        "In this notebook, we'll walk you through each of the components that are involved in a simple RAG application.\n",
        "\n",
        "We won't be leveraging any fancy tools, just the OpenAI Python SDK, Numpy, and some classic Python.\n",
        "\n",
        "> NOTE: This was done with Python 3.11.4.\n",
        "\n",
        "> NOTE: There might be [compatibility issues](https://github.com/wandb/wandb/issues/7683) if you're on NVIDIA driver >552.44 As an interim solution - you can rollback your drivers to the 552.44."
      ]
    },
    {
      "cell_type": "markdown",
      "metadata": {
        "id": "5CtcL8P8R6yt"
      },
      "source": [
        "## Table of Contents:\n",
        "\n",
        "- Task 1: Imports and Utilities\n",
        "- Task 2: Documents\n",
        "- Task 3: Embeddings and Vectors\n",
        "- Task 4: Prompts\n",
        "- Task 5: Retrieval Augmented Generation\n",
        "  - 🚧 Activity #1: Augment RAG"
      ]
    },
    {
      "cell_type": "markdown",
      "metadata": {
        "id": "1Dz6GYilR6yt"
      },
      "source": [
        "Let's look at a rather complicated looking visual representation of a basic RAG application.\n",
        "\n",
        "<img src=\"https://i.imgur.com/vD8b016.png\" />"
      ]
    },
    {
      "cell_type": "markdown",
      "metadata": {
        "id": "PjmC0KFtR6yt"
      },
      "source": [
        "## Task 1: Imports and Utility\n",
        "\n",
        "We're just doing some imports and enabling `async` to work within the Jupyter environment here, nothing too crazy!"
      ]
    },
    {
      "cell_type": "code",
      "execution_count": 14,
      "metadata": {},
      "outputs": [],
      "source": [
        "import sys\n",
        "import os\n",
        "\n",
        "# Make sure we can import the aimakerspace package\n",
        "if 'aimakerspace' not in sys.modules:\n",
        "\t# Get the absolute path to the parent directory containing the aimakerspace package\n",
        "\tproject_root = os.path.abspath(os.path.join(os.path.dirname('__file__')))\n",
        "\tif project_root not in sys.path:\n",
        "\t\tsys.path.append(project_root)\n",
        "\tprint(f\"Added {project_root} to sys.path\")\n",
        "\n",
        "#from dotenv import load_dotenv\n",
        "#load_dotenv(override=True)\t"
      ]
    },
    {
      "cell_type": "code",
      "execution_count": 15,
      "metadata": {
        "id": "Z1dyrG4hR6yt"
      },
      "outputs": [],
      "source": [
        "from aimakerspace.text_utils import TextFileLoader, CharacterTextSplitter\n",
        "from aimakerspace.vectordatabase import VectorDatabase\n",
        "import asyncio"
      ]
    },
    {
      "cell_type": "code",
      "execution_count": 16,
      "metadata": {
        "id": "9OrFZRnER6yt"
      },
      "outputs": [],
      "source": [
        "import nest_asyncio\n",
        "nest_asyncio.apply()"
      ]
    },
    {
      "cell_type": "markdown",
      "metadata": {
        "id": "M0jGnpQsR6yu"
      },
      "source": [
        "## Task 2: Documents\n",
        "\n",
        "We'll be concerning ourselves with this part of the flow in the following section:\n",
        "\n",
        "<img src=\"https://i.imgur.com/jTm9gjk.png\" />"
      ]
    },
    {
      "cell_type": "markdown",
      "metadata": {
        "id": "-SFPWvRUR6yu"
      },
      "source": [
        "### Loading Source Documents\n",
        "\n",
        "So, first things first, we need some documents to work with.\n",
        "\n",
        "While we could work directly with the `.txt` files (or whatever file-types you wanted to extend this to) we can instead do some batch processing of those documents at the beginning in order to store them in a more machine compatible format.\n",
        "\n",
        "In this case, we're going to parse our text file into a single document in memory.\n",
        "\n",
        "Let's look at the relevant bits of the `TextFileLoader` class:\n",
        "\n",
        "```python\n",
        "def load_file(self):\n",
        "        with open(self.path, \"r\", encoding=self.encoding) as f:\n",
        "            self.documents.append(f.read())\n",
        "```\n",
        "\n",
        "We're simply loading the document using the built in `open` method, and storing that output in our `self.documents` list.\n",
        "\n",
        "> NOTE: We're using blogs from PMarca (Marc Andreessen) as our sample data. This data is largely irrelevant as we want to focus on the mechanisms of RAG, which includes out data's shape and quality - but not specifically what the contents of the data are. \n"
      ]
    },
    {
      "cell_type": "code",
      "execution_count": 17,
      "metadata": {
        "colab": {
          "base_uri": "https://localhost:8080/"
        },
        "id": "Ia2sUEuGR6yu",
        "outputId": "84937ecc-c35f-4c4a-a4ab-9da72625954c"
      },
      "outputs": [
        {
          "data": {
            "text/plain": [
              "1"
            ]
          },
          "execution_count": 17,
          "metadata": {},
          "output_type": "execute_result"
        }
      ],
      "source": [
        "text_loader = TextFileLoader(\"data/PMarcaBlogs.txt\")\n",
        "documents = text_loader.load_documents()\n",
        "len(documents)"
      ]
    },
    {
      "cell_type": "code",
      "execution_count": 18,
      "metadata": {
        "colab": {
          "base_uri": "https://localhost:8080/"
        },
        "id": "bV-tj5WFR6yu",
        "outputId": "674eb315-1ff3-4597-bcf5-38ece0a812ac"
      },
      "outputs": [
        {
          "name": "stdout",
          "output_type": "stream",
          "text": [
            "\n",
            "The Pmarca Blog Archives\n",
            "(select posts from 2007-2009)\n",
            "Marc Andreessen\n",
            "copyright: Andreessen Horow\n"
          ]
        }
      ],
      "source": [
        "print(documents[0][:100])"
      ]
    },
    {
      "cell_type": "markdown",
      "metadata": {
        "id": "nHlTvCzYR6yu"
      },
      "source": [
        "### Splitting Text Into Chunks\n",
        "\n",
        "As we can see, there is one massive document.\n",
        "\n",
        "We'll want to chunk the document into smaller parts so it's easier to pass the most relevant snippets to the LLM.\n",
        "\n",
        "There is no fixed way to split/chunk documents - and you'll need to rely on some intuition as well as knowing your data *very* well in order to build the most robust system.\n",
        "\n",
        "For this toy example, we'll just split blindly on length.\n",
        "\n",
        ">There's an opportunity to clear up some terminology here, for this course we will be stick to the following:\n",
        ">\n",
        ">- \"source documents\" : The `.txt`, `.pdf`, `.html`, ..., files that make up the files and information we start with in its raw format\n",
        ">- \"document(s)\" : single (or more) text object(s)\n",
        ">- \"corpus\" : the combination of all of our documents"
      ]
    },
    {
      "cell_type": "markdown",
      "metadata": {
        "id": "2G6Voc0jR6yv"
      },
      "source": [
        "As you can imagine (though it's not specifically true in this toy example) the idea of splitting documents is to break them into managable sized chunks that retain the most relevant local context."
      ]
    },
    {
      "cell_type": "code",
      "execution_count": 19,
      "metadata": {
        "colab": {
          "base_uri": "https://localhost:8080/"
        },
        "id": "UMC4tsEmR6yv",
        "outputId": "08689c0b-57cd-4040-942a-8193e997f5cb"
      },
      "outputs": [
        {
          "data": {
            "text/plain": [
              "373"
            ]
          },
          "execution_count": 19,
          "metadata": {},
          "output_type": "execute_result"
        }
      ],
      "source": [
        "text_splitter = CharacterTextSplitter()\n",
        "split_documents = text_splitter.split_texts(documents)\n",
        "len(split_documents)"
      ]
    },
    {
      "cell_type": "markdown",
      "metadata": {
        "id": "W2wKT0WLR6yv"
      },
      "source": [
        "Let's take a look at some of the documents we've managed to split."
      ]
    },
    {
      "cell_type": "code",
      "execution_count": 20,
      "metadata": {
        "colab": {
          "base_uri": "https://localhost:8080/"
        },
        "id": "vcYMwWJoR6yv",
        "outputId": "20d69876-feca-4826-b4be-32915276987a"
      },
      "outputs": [
        {
          "data": {
            "text/plain": [
              "['\\ufeff\\nThe Pmarca Blog Archives\\n(select posts from 2007-2009)\\nMarc Andreessen\\ncopyright: Andreessen Horowitz\\ncover design: Jessica Hagy\\nproduced using: Pressbooks\\nContents\\nTHE PMARCA GUIDE TO STARTUPS\\nPart 1: Why not to do a startup 2\\nPart 2: When the VCs say \"no\" 10\\nPart 3: \"But I don\\'t know any VCs!\" 18\\nPart 4: The only thing that matters 25\\nPart 5: The Moby Dick theory of big companies 33\\nPart 6: How much funding is too little? Too much? 41\\nPart 7: Why a startup\\'s initial business plan doesn\\'t\\nmatter that much\\n49\\nTHE PMARCA GUIDE TO HIRING\\nPart 8: Hiring, managing, promoting, and Dring\\nexecutives\\n54\\nPart 9: How to hire a professional CEO 68\\nHow to hire the best people you\\'ve ever worked\\nwith\\n69\\nTHE PMARCA GUIDE TO BIG COMPANIES\\nPart 1: Turnaround! 82\\nPart 2: Retaining great people 86\\nTHE PMARCA GUIDE TO CAREER, PRODUCTIVITY,\\nAND SOME OTHER THINGS\\nIntroduction 97\\nPart 1: Opportunity 99\\nPart 2: Skills and education 107\\nPart 3: Where to go and why 120\\nThe Pmarca Guide to Personal Productivi']"
            ]
          },
          "execution_count": 20,
          "metadata": {},
          "output_type": "execute_result"
        }
      ],
      "source": [
        "split_documents[0:1]"
      ]
    },
    {
      "cell_type": "markdown",
      "metadata": {
        "id": "HOU-RFP_R6yv"
      },
      "source": [
        "## Task 3: Embeddings and Vectors\n",
        "\n",
        "Next, we have to convert our corpus into a \"machine readable\" format as we explored in the Embedding Primer notebook.\n",
        "\n",
        "Today, we're going to talk about the actual process of creating, and then storing, these embeddings, and how we can leverage that to intelligently add context to our queries."
      ]
    },
    {
      "cell_type": "markdown",
      "metadata": {},
      "source": [
        "### OpenAI API Key\n",
        "\n",
        "In order to access OpenAI's APIs, we'll need to provide our OpenAI API Key!\n",
        "\n",
        "You can work through the folder \"OpenAI API Key Setup\" for more information on this process if you don't already have an API Key!"
      ]
    },
    {
      "cell_type": "code",
      "execution_count": 21,
      "metadata": {},
      "outputs": [],
      "source": [
        "import os\n",
        "from dotenv import load_dotenv\n",
        "import openai\n",
        "from getpass import getpass\n",
        "_ = load_dotenv(override=True)\n",
        "\n",
        "#openai.api_key = os.getenv(\"OPENAI_API_KEY\",getpass(\"OpenAI API Key: \"))\n",
        "#os.environ[\"OPENAI_API_KEY\"] = openai.api_key"
      ]
    },
    {
      "cell_type": "markdown",
      "metadata": {},
      "source": [
        "### Vector Database\n",
        "\n",
        "Let's set up our vector database to hold all our documents and their embeddings!"
      ]
    },
    {
      "cell_type": "markdown",
      "metadata": {
        "id": "kDQrfAR1R6yv"
      },
      "source": [
        "While this is all baked into 1 call - we can look at some of the code that powers this process to get a better understanding:\n",
        "\n",
        "Let's look at our `VectorDatabase().__init__()`:\n",
        "\n",
        "```python\n",
        "def __init__(self, embedding_model: EmbeddingModel = None):\n",
        "        self.vectors = defaultdict(np.array)\n",
        "        self.embedding_model = embedding_model or EmbeddingModel()\n",
        "```\n",
        "\n",
        "As you can see - our vectors are merely stored as a dictionary of `np.array` objects.\n",
        "\n",
        "Secondly, our `VectorDatabase()` has a default `EmbeddingModel()` which is a wrapper for OpenAI's `text-embedding-3-small` model.\n",
        "\n",
        "> **Quick Info About `text-embedding-3-small`**:\n",
        "> - It has a context window of **8191** tokens\n",
        "> - It returns vectors with dimension **1536**"
      ]
    },
    {
      "cell_type": "markdown",
      "metadata": {
        "id": "L273pRdeR6yv"
      },
      "source": [
        "#### ❓Question #1:\n",
        "\n",
        "The default embedding dimension of `text-embedding-3-small` is 1536, as noted above. \n",
        "\n",
        "1. Is there any way to modify this dimension? **Answer:** Yes, we can use dimensions parameter, I have modified `async_get_embeddings` method of `EmbeddingModel()` to accept dimensions parameter\n",
        "2. What technique does OpenAI use to achieve this? **Answer:** OpenAI has trained there embedding models  with dimensionality reduction technique called [Matryoshka Representation Learning](https://arxiv.org/abs/2205.13147).\n",
        "\n",
        "> NOTE: Check out this [API documentation](https://platform.openai.com/docs/api-reference/embeddings/create) for the answer to question #1, and [this documentation](https://platform.openai.com/docs/guides/embeddings/use-cases) for an answer to question #2!"
      ]
    },
    {
      "cell_type": "markdown",
      "metadata": {
        "id": "w5FZY7K3R6yv"
      },
      "source": [
        "We can call the `async_get_embeddings` method of our `EmbeddingModel()` on a list of `str` and receive a list of `float` back!\n",
        "\n",
        "```python\n",
        "async def async_get_embeddings(self, list_of_text: List[str]) -> List[List[float]]:\n",
        "        return await aget_embeddings(\n",
        "            list_of_text=list_of_text, engine=self.embeddings_model_name\n",
        "        )\n",
        "```"
      ]
    },
    {
      "cell_type": "markdown",
      "metadata": {
        "id": "cSct6X0aR6yv"
      },
      "source": [
        "We cast those to `np.array` when we build our `VectorDatabase()`:\n",
        "\n",
        "```python\n",
        "async def abuild_from_list(self, list_of_text: List[str]) -> \"VectorDatabase\":\n",
        "        embeddings = await self.embedding_model.async_get_embeddings(list_of_text)\n",
        "        for text, embedding in zip(list_of_text, embeddings):\n",
        "            self.insert(text, np.array(embedding))\n",
        "        return self\n",
        "```\n",
        "\n",
        "And that's all we need to do!"
      ]
    },
    {
      "cell_type": "code",
      "execution_count": 22,
      "metadata": {
        "id": "O4KoLbVDR6yv"
      },
      "outputs": [],
      "source": [
        "vector_db = VectorDatabase()\n",
        "vector_db = asyncio.run(vector_db.abuild_from_list(split_documents))"
      ]
    },
    {
      "cell_type": "markdown",
      "metadata": {
        "id": "SSZwaGvpR6yv"
      },
      "source": [
        "#### ❓Question #2:\n",
        "\n",
        "What are the benefits of using an `async` approach to collecting our embeddings? **Answer:**  Using async will run tasks concurrently in event loop, when one task awaitng on I/O or network then next task will run. As communication with OpenAI is network bound that's why running async will result in better throughput.\n",
        "\n",
        "\n",
        "> NOTE: Determining the core difference between `async` and `sync` will be useful! If you get stuck - ask ChatGPT!"
      ]
    },
    {
      "cell_type": "markdown",
      "metadata": {
        "id": "nRBdIt-xR6yw"
      },
      "source": [
        "So, to review what we've done so far in natural language:\n",
        "\n",
        "1. We load source documents\n",
        "2. We split those source documents into smaller chunks (documents)\n",
        "3. We send each of those documents to the `text-embedding-3-small` OpenAI API endpoint\n",
        "4. We store each of the text representations with the vector representations as keys/values in a dictionary"
      ]
    },
    {
      "cell_type": "markdown",
      "metadata": {
        "id": "4-vWANZyR6yw"
      },
      "source": [
        "### Semantic Similarity\n",
        "\n",
        "The next step is to be able to query our `VectorDatabase()` with a `str` and have it return to us vectors and text that is most relevant from our corpus.\n",
        "\n",
        "We're going to use the following process to achieve this in our toy example:\n",
        "\n",
        "1. We need to embed our query with the same `EmbeddingModel()` as we used to construct our `VectorDatabase()`\n",
        "2. We loop through every vector in our `VectorDatabase()` and use a distance measure to compare how related they are\n",
        "3. We return a list of the top `k` closest vectors, with their text representations\n",
        "\n",
        "There's some very heavy optimization that can be done at each of these steps - but let's just focus on the basic pattern in this notebook.\n",
        "\n",
        "> We are using [cosine similarity](https://www.engati.com/glossary/cosine-similarity) as a distance metric in this example - but there are many many distance metrics you could use - like [these](https://flavien-vidal.medium.com/similarity-distances-for-natural-language-processing-16f63cd5ba55)\n",
        "\n",
        "> We are using a rather inefficient way of calculating relative distance between the query vector and all other vectors - there are more advanced approaches that are much more efficient, like [ANN](https://towardsdatascience.com/comprehensive-guide-to-approximate-nearest-neighbors-algorithms-8b94f057d6b6)"
      ]
    },
    {
      "cell_type": "code",
      "execution_count": 23,
      "metadata": {
        "colab": {
          "base_uri": "https://localhost:8080/"
        },
        "id": "76d96uavR6yw",
        "outputId": "bbfccc31-20a2-41c7-c14d-46554a43ed2d"
      },
      "outputs": [
        {
          "data": {
            "text/plain": [
              "[('ordingly.\\nSeventh, when hiring the executive to run your former specialty, be\\ncareful you don’t hire someone weak on purpose.\\nThis sounds silly, but you wouldn’t believe how oaen it happens.\\nThe CEO who used to be a product manager who has a weak\\nproduct management executive. The CEO who used to be in\\nsales who has a weak sales executive. The CEO who used to be\\nin marketing who has a weak marketing executive.\\nI call this the “Michael Eisner Memorial Weak Executive Problem” — aaer the CEO of Disney who had previously been a brilliant TV network executive. When he bought ABC at Disney, it\\npromptly fell to fourth place. His response? “If I had an extra\\ntwo days a week, I could turn around ABC myself.” Well, guess\\nwhat, he didn’t have an extra two days a week.\\nA CEO — or a startup founder — oaen has a hard time letting\\ngo of the function that brought him to the party. The result: you\\nhire someone weak into the executive role for that function so\\nthat you can continue to be “the man” — cons',\n",
              "  np.float64(0.6539043027545371)),\n",
              " ('m. They have areas where they are truly deXcient in judgment or skill set. That’s just life. Almost nobody is brilliant\\nat everything. When hiring and when Hring executives, you\\nmust therefore focus on strength rather than lack of weakness. Everybody has severe weaknesses even if you can’t see\\nthem yet. When managing, it’s oaen useful to micromanage and\\nto provide remedial training around these weaknesses. Doing so\\nmay make the diWerence between an executive succeeding or\\nfailing.\\nFor example, you might have a brilliant engineering executive\\nwho generates excellent team loyalty, has terriXc product judgment and makes the trains run on time. This same executive\\nmay be very poor at relating to the other functions in the company. She may generate far more than her share of cross-functional conYicts, cut herself oW from critical information, and\\nsigniXcantly impede your ability to sell and market eWectively.\\nYour alternatives are:\\n(a) Macro-manage and give her an annual or quarterly object',\n",
              "  np.float64(0.5036247837648782)),\n",
              " ('ed?\\nIn reality — as opposed to Marc’s warped view of reality — it will\\nbe extremely helpful for Marc [if he were actually the CEO,\\nwhich he is not] to meet with the new head of engineering daily\\nwhen she comes on board and review all of her thinking and\\ndecisions. This level of micromanagement will accelerate her\\ntraining and improve her long-term eWectiveness. It will make\\nher seem smarter to the rest of the organization which will build\\ncredibility and conXdence while she comes up to speed. Micromanaging new executives is generally a good idea for a limited\\nperiod of time.\\nHowever, that is not the only time that it makes sense to micro66 The Pmarca Blog Archives\\nmanage executives. It turns out that just about every executive\\nin the world has a few things that are seriously wrong with\\nthem. They have areas where they are truly deXcient in judgment or skill set. That’s just life. Almost nobody is brilliant\\nat everything. When hiring and when Hring executives, you\\nmust therefore focus o',\n",
              "  np.float64(0.4814861061791066))]"
            ]
          },
          "execution_count": 23,
          "metadata": {},
          "output_type": "execute_result"
        }
      ],
      "source": [
        "vector_db.search_by_text(\"What is the Michael Eisner Memorial Weak Executive Problem?\", k=3)\n"
      ]
    },
    {
      "cell_type": "markdown",
      "metadata": {
        "id": "TehsfIiKR6yw"
      },
      "source": [
        "## Task 4: Prompts\n",
        "\n",
        "In the following section, we'll be looking at the role of prompts - and how they help us to guide our application in the right direction.\n",
        "\n",
        "In this notebook, we're going to rely on the idea of \"zero-shot in-context learning\".\n",
        "\n",
        "This is a lot of words to say: \"We will ask it to perform our desired task in the prompt, and provide no examples.\""
      ]
    },
    {
      "cell_type": "markdown",
      "metadata": {
        "id": "yXpA0UveR6yw"
      },
      "source": [
        "### XYZRolePrompt\n",
        "\n",
        "Before we do that, let's stop and think a bit about how OpenAI's chat models work.\n",
        "\n",
        "We know they have roles - as is indicated in the following API [documentation](https://platform.openai.com/docs/api-reference/chat/create#chat/create-messages)\n",
        "\n",
        "There are three roles, and they function as follows (taken directly from [OpenAI](https://platform.openai.com/docs/guides/gpt/chat-completions-api)):\n",
        "\n",
        "- `{\"role\" : \"system\"}` : The system message helps set the behavior of the assistant. For example, you can modify the personality of the assistant or provide specific instructions about how it should behave throughout the conversation. However note that the system message is optional and the model’s behavior without a system message is likely to be similar to using a generic message such as \"You are a helpful assistant.\"\n",
        "- `{\"role\" : \"user\"}` : The user messages provide requests or comments for the assistant to respond to.\n",
        "- `{\"role\" : \"assistant\"}` : Assistant messages store previous assistant responses, but can also be written by you to give examples of desired behavior.\n",
        "\n",
        "The main idea is this:\n",
        "\n",
        "1. You start with a system message that outlines how the LLM should respond, what kind of behaviours you can expect from it, and more\n",
        "2. Then, you can provide a few examples in the form of \"assistant\"/\"user\" pairs\n",
        "3. Then, you prompt the model with the true \"user\" message.\n",
        "\n",
        "In this example, we'll be forgoing the 2nd step for simplicities sake."
      ]
    },
    {
      "cell_type": "markdown",
      "metadata": {
        "id": "gdZ2KWKSR6yw"
      },
      "source": [
        "#### Utility Functions\n",
        "\n",
        "You'll notice that we're using some utility functions from the `aimakerspace` module - let's take a peek at these and see what they're doing!"
      ]
    },
    {
      "cell_type": "markdown",
      "metadata": {
        "id": "GFbeJDDsR6yw"
      },
      "source": [
        "##### XYZRolePrompt"
      ]
    },
    {
      "cell_type": "markdown",
      "metadata": {
        "id": "5mojJSE3R6yw"
      },
      "source": [
        "Here we have our `system`, `user`, and `assistant` role prompts.\n",
        "\n",
        "Let's take a peek at what they look like:\n",
        "\n",
        "```python\n",
        "class BasePrompt:\n",
        "    def __init__(self, prompt):\n",
        "        \"\"\"\n",
        "        Initializes the BasePrompt object with a prompt template.\n",
        "\n",
        "        :param prompt: A string that can contain placeholders within curly braces\n",
        "        \"\"\"\n",
        "        self.prompt = prompt\n",
        "        self._pattern = re.compile(r\"\\{([^}]+)\\}\")\n",
        "\n",
        "    def format_prompt(self, **kwargs):\n",
        "        \"\"\"\n",
        "        Formats the prompt string using the keyword arguments provided.\n",
        "\n",
        "        :param kwargs: The values to substitute into the prompt string\n",
        "        :return: The formatted prompt string\n",
        "        \"\"\"\n",
        "        matches = self._pattern.findall(self.prompt)\n",
        "        return self.prompt.format(**{match: kwargs.get(match, \"\") for match in matches})\n",
        "\n",
        "    def get_input_variables(self):\n",
        "        \"\"\"\n",
        "        Gets the list of input variable names from the prompt string.\n",
        "\n",
        "        :return: List of input variable names\n",
        "        \"\"\"\n",
        "        return self._pattern.findall(self.prompt)\n",
        "```\n",
        "\n",
        "Then we have our `RolePrompt` which laser focuses us on the role pattern found in most API endpoints for LLMs.\n",
        "\n",
        "```python\n",
        "class RolePrompt(BasePrompt):\n",
        "    def __init__(self, prompt, role: str):\n",
        "        \"\"\"\n",
        "        Initializes the RolePrompt object with a prompt template and a role.\n",
        "\n",
        "        :param prompt: A string that can contain placeholders within curly braces\n",
        "        :param role: The role for the message ('system', 'user', or 'assistant')\n",
        "        \"\"\"\n",
        "        super().__init__(prompt)\n",
        "        self.role = role\n",
        "\n",
        "    def create_message(self, **kwargs):\n",
        "        \"\"\"\n",
        "        Creates a message dictionary with a role and a formatted message.\n",
        "\n",
        "        :param kwargs: The values to substitute into the prompt string\n",
        "        :return: Dictionary containing the role and the formatted message\n",
        "        \"\"\"\n",
        "        return {\"role\": self.role, \"content\": self.format_prompt(**kwargs)}\n",
        "```\n",
        "\n",
        "We'll look at how the `SystemRolePrompt` is constructed to get a better idea of how that extension works:\n",
        "\n",
        "```python\n",
        "class SystemRolePrompt(RolePrompt):\n",
        "    def __init__(self, prompt: str):\n",
        "        super().__init__(prompt, \"system\")\n",
        "```\n",
        "\n",
        "That pattern is repeated for our `UserRolePrompt` and our `AssistantRolePrompt` as well."
      ]
    },
    {
      "cell_type": "markdown",
      "metadata": {
        "id": "D361R6sMR6yw"
      },
      "source": [
        "##### ChatOpenAI"
      ]
    },
    {
      "cell_type": "markdown",
      "metadata": {
        "id": "HJVQ2Pm8R6yw"
      },
      "source": [
        "Next we have our model, which is converted to a format analagous to libraries like LangChain and LlamaIndex.\n",
        "\n",
        "Let's take a peek at how that is constructed:\n",
        "\n",
        "```python\n",
        "class ChatOpenAI:\n",
        "    def __init__(self, model_name: str = \"gpt-4o-mini\"):\n",
        "        self.model_name = model_name\n",
        "        self.openai_api_key = os.getenv(\"OPENAI_API_KEY\")\n",
        "        if self.openai_api_key is None:\n",
        "            raise ValueError(\"OPENAI_API_KEY is not set\")\n",
        "\n",
        "    def run(self, messages, text_only: bool = True):\n",
        "        if not isinstance(messages, list):\n",
        "            raise ValueError(\"messages must be a list\")\n",
        "\n",
        "        openai.api_key = self.openai_api_key\n",
        "        response = openai.ChatCompletion.create(\n",
        "            model=self.model_name, messages=messages\n",
        "        )\n",
        "\n",
        "        if text_only:\n",
        "            return response.choices[0].message.content\n",
        "\n",
        "        return response\n",
        "```"
      ]
    },
    {
      "cell_type": "markdown",
      "metadata": {
        "id": "qCU7FfhIR6yw"
      },
      "source": [
        "#### ❓ Question #3:\n",
        "\n",
        "When calling the OpenAI API - are there any ways we can achieve more reproducible outputs? **Answer:** We can use temprature parameter and lower value will help to achieve more reproducible outputs. We can pass `temperature` parameter to `run` method of `ChatOpenAI()`.\n",
        "\n",
        "> NOTE: Check out [this section](https://platform.openai.com/docs/guides/text-generation/) of the OpenAI documentation for the answer!"
      ]
    },
    {
      "cell_type": "markdown",
      "metadata": {
        "id": "c5wcjMLCR6yw"
      },
      "source": [
        "### Creating and Prompting OpenAI's `gpt-4o-mini`!\n",
        "\n",
        "Let's tie all these together and use it to prompt `gpt-4o-mini`!"
      ]
    },
    {
      "cell_type": "code",
      "execution_count": 29,
      "metadata": {
        "id": "WIfpIot7R6yw"
      },
      "outputs": [],
      "source": [
        "from aimakerspace.openai_utils.prompts import (\n",
        "    UserRolePrompt,\n",
        "    SystemRolePrompt,\n",
        "    AssistantRolePrompt,\n",
        ")\n",
        "\n",
        "from aimakerspace.openai_utils.chatmodel import ChatOpenAI\n",
        "\n",
        "chat_openai = ChatOpenAI()\n",
        "# user_prompt_template = \"{content}\"\n",
        "# user_role_prompt = UserRolePrompt(user_prompt_template)\n",
        "# system_prompt_template = (\n",
        "#     \"You are an expert in {expertise}, you always answer in a kind way.\"\n",
        "# )\n",
        "# system_role_prompt = SystemRolePrompt(system_prompt_template)\n",
        "\n",
        "# messages = [\n",
        "#     system_role_prompt.create_message(expertise=\"Python\"),\n",
        "#     user_role_prompt.create_message(\n",
        "#         content=\"What is the best way to write a loop?\"\n",
        "#     ),\n",
        "# ]\n",
        "\n",
        "# response = chat_openai.run(messages, temperature=0.5)"
      ]
    },
    {
      "cell_type": "code",
      "execution_count": 25,
      "metadata": {
        "colab": {
          "base_uri": "https://localhost:8080/"
        },
        "id": "dHo7lssNR6yw",
        "outputId": "1d3823fa-bb6b-45f6-ddba-b41686388324"
      },
      "outputs": [],
      "source": [
        "# print(response)"
      ]
    },
    {
      "cell_type": "markdown",
      "metadata": {
        "id": "r2nxxhB2R6yy"
      },
      "source": [
        "## Task 5: Retrieval Augmented Generation\n",
        "\n",
        "Now we can create a RAG prompt - which will help our system behave in a way that makes sense!\n",
        "\n",
        "There is much you could do here, many tweaks and improvements to be made!"
      ]
    },
    {
      "cell_type": "code",
      "execution_count": 31,
      "metadata": {
        "id": "D1hamzGaR6yy"
      },
      "outputs": [],
      "source": [
        "RAG_PROMPT_TEMPLATE = \"\"\" \\\n",
        "Use the provided context to answer the user's query.\n",
        "\n",
        "You may not answer the user's query unless there is specific context in the following text.\n",
        "\n",
        "If you do not know the answer, or cannot answer, please respond with \"I don't know\".\n",
        "\"\"\"\n",
        "\n",
        "rag_prompt = SystemRolePrompt(RAG_PROMPT_TEMPLATE)\n",
        "\n",
        "USER_PROMPT_TEMPLATE = \"\"\" \\\n",
        "Context:\n",
        "{context}\n",
        "\n",
        "User Query:\n",
        "{user_query}\n",
        "\"\"\"\n",
        "\n",
        "\n",
        "user_prompt = UserRolePrompt(USER_PROMPT_TEMPLATE)\n",
        "\n",
        "class RetrievalAugmentedQAPipeline:\n",
        "    def __init__(self, llm: ChatOpenAI(), vector_db_retriever: VectorDatabase) -> None:\n",
        "        self.llm = llm\n",
        "        self.vector_db_retriever = vector_db_retriever\n",
        "\n",
        "    def run_pipeline(self, user_query: str) -> str:\n",
        "        context_list = self.vector_db_retriever.search_by_text(user_query, k=4)\n",
        "\n",
        "        context_prompt = \"\"\n",
        "        for context in context_list:\n",
        "            context_prompt += context[0] + \"\\n\"\n",
        "\n",
        "        formatted_system_prompt = rag_prompt.create_message()\n",
        "\n",
        "        formatted_user_prompt = user_prompt.create_message(user_query=user_query, context=context_prompt)\n",
        "\n",
        "        return {\"response\" : self.llm.run([formatted_system_prompt, formatted_user_prompt]), \"context\" : context_list}"
      ]
    },
    {
      "cell_type": "markdown",
      "metadata": {
        "id": "zZIJI19uR6yz"
      },
      "source": [
        "#### ❓ Question #4:\n",
        "\n",
        "What prompting strategies could you use to make the LLM have a more thoughtful, detailed response? We can instruct LLM to use **Think though your response step by step.** to have more thoughtful, detailed response.\n",
        "\n",
        "What is that strategy called? The strategy called **Chain of Thought Prompting**\n",
        "\n",
        "> NOTE: You can look through [\"Accessing GPT-3.5-turbo Like a Developer\"](https://colab.research.google.com/drive/1mOzbgf4a2SP5qQj33ZxTz2a01-5eXqk2?usp=sharing) for an answer to this question if you get stuck!"
      ]
    },
    {
      "cell_type": "code",
      "execution_count": null,
      "metadata": {
        "id": "kqbE9fZ6R6yz"
      },
      "outputs": [],
      "source": [
        "# retrieval_augmented_qa_pipeline = RetrievalAugmentedQAPipeline(\n",
        "#     vector_db_retriever=vector_db,\n",
        "#     llm=chat_openai\n",
        "# )"
      ]
    },
    {
      "cell_type": "code",
      "execution_count": null,
      "metadata": {
        "colab": {
          "base_uri": "https://localhost:8080/"
        },
        "id": "jAGhaCGOR6yz",
        "outputId": "e4fb3a1b-d2bc-4e18-ec31-dc0adf767163"
      },
      "outputs": [
        {
          "data": {
            "text/plain": [
              "{'response': 'The Michael Eisner Memorial Weak Executive Problem refers to the tendency of a CEO or startup founder to hire a weak executive in their former specialty area, often out of a desire to maintain control over that function. This can happen when a CEO, who has expertise in a specific area like product management, sales, or marketing, selects someone less competent for that role to ensure they can remain prominent and influential (“the man”) in that specific function. This problem highlights the risk of allowing personal biases and insecurities to influence hiring decisions, which can lead to poor organizational performance. The term is based on the example of Michael Eisner, who struggled to turn around ABC after acquiring it, despite his previous success as a TV network executive.',\n",
              " 'context': [('ordingly.\\nSeventh, when hiring the executive to run your former specialty, be\\ncareful you don’t hire someone weak on purpose.\\nThis sounds silly, but you wouldn’t believe how oaen it happens.\\nThe CEO who used to be a product manager who has a weak\\nproduct management executive. The CEO who used to be in\\nsales who has a weak sales executive. The CEO who used to be\\nin marketing who has a weak marketing executive.\\nI call this the “Michael Eisner Memorial Weak Executive Problem” — aaer the CEO of Disney who had previously been a brilliant TV network executive. When he bought ABC at Disney, it\\npromptly fell to fourth place. His response? “If I had an extra\\ntwo days a week, I could turn around ABC myself.” Well, guess\\nwhat, he didn’t have an extra two days a week.\\nA CEO — or a startup founder — oaen has a hard time letting\\ngo of the function that brought him to the party. The result: you\\nhire someone weak into the executive role for that function so\\nthat you can continue to be “the man” — cons',\n",
              "   np.float64(0.6539043027545371)),\n",
              "  ('m. They have areas where they are truly deXcient in judgment or skill set. That’s just life. Almost nobody is brilliant\\nat everything. When hiring and when Hring executives, you\\nmust therefore focus on strength rather than lack of weakness. Everybody has severe weaknesses even if you can’t see\\nthem yet. When managing, it’s oaen useful to micromanage and\\nto provide remedial training around these weaknesses. Doing so\\nmay make the diWerence between an executive succeeding or\\nfailing.\\nFor example, you might have a brilliant engineering executive\\nwho generates excellent team loyalty, has terriXc product judgment and makes the trains run on time. This same executive\\nmay be very poor at relating to the other functions in the company. She may generate far more than her share of cross-functional conYicts, cut herself oW from critical information, and\\nsigniXcantly impede your ability to sell and market eWectively.\\nYour alternatives are:\\n(a) Macro-manage and give her an annual or quarterly object',\n",
              "   np.float64(0.5036247837648782)),\n",
              "  ('ed?\\nIn reality — as opposed to Marc’s warped view of reality — it will\\nbe extremely helpful for Marc [if he were actually the CEO,\\nwhich he is not] to meet with the new head of engineering daily\\nwhen she comes on board and review all of her thinking and\\ndecisions. This level of micromanagement will accelerate her\\ntraining and improve her long-term eWectiveness. It will make\\nher seem smarter to the rest of the organization which will build\\ncredibility and conXdence while she comes up to speed. Micromanaging new executives is generally a good idea for a limited\\nperiod of time.\\nHowever, that is not the only time that it makes sense to micro66 The Pmarca Blog Archives\\nmanage executives. It turns out that just about every executive\\nin the world has a few things that are seriously wrong with\\nthem. They have areas where they are truly deXcient in judgment or skill set. That’s just life. Almost nobody is brilliant\\nat everything. When hiring and when Hring executives, you\\nmust therefore focus o',\n",
              "   np.float64(0.4814861061791066)),\n",
              "  ('nYicts, cut herself oW from critical information, and\\nsigniXcantly impede your ability to sell and market eWectively.\\nYour alternatives are:\\n(a) Macro-manage and give her an annual or quarterly objective\\nto Xx it, or…\\n(b) Intensively micromanage her interactions until she learns\\nthe fundamental interpersonal skills required to be an eWective\\nexecutive.\\nI am arguing that doing (a) will likely result in weak performance. The reason is that she very likely has no idea how to be\\neWective with her peers. If somebody is an executive, it’s very\\nlikely that somewhere along the line somebody gave her feedback — perhaps abstractly — about all of her weaknesses. Yet\\nthe weakness remains. As a result, executives generally require\\nmore hands-on management than lower level employees to\\nimprove weak areas.\\nSo, micromanagement is like Xne wine. A little at the right times\\nwill really enhance things; too much all the time and you’ll end\\nup in rehab.\\nPart 8: Hiring, managing, promoting, and Dring execut',\n",
              "   np.float64(0.4684350385747078))]}"
            ]
          },
          "execution_count": 15,
          "metadata": {},
          "output_type": "execute_result"
        }
      ],
      "source": [
        "# retrieval_augmented_qa_pipeline.run_pipeline(\"What is the Michael Eisner Memorial Weak Executive Problem?\")\n"
      ]
    },
    {
      "cell_type": "markdown",
      "metadata": {},
      "source": [
        "### 🏗️ Activity #1:\n",
        "\n",
        "Enhance your RAG application in some way! \n",
        "\n",
        "Suggestions are: \n",
        "\n",
        "- Allow it to work with PDF files\n",
        "- Implement a new distance metric\n",
        "- Add metadata support to the vector database\n",
        "\n",
        "While these are suggestions, you should feel free to make whatever augmentations you desire! \n",
        "\n",
        "> NOTE: These additions might require you to work within the `aimakerspace` library - that's expected!"
      ]
    },
    {
      "cell_type": "code",
      "execution_count": 32,
      "metadata": {},
      "outputs": [],
      "source": [
        "from collections import defaultdict\n",
        "import numpy as np\n",
        "from typing import List, Tuple, Dict, Any, Optional\n",
        "from aimakerspace.openai_utils.chatmodel import ChatOpenAI\n",
        "from aimakerspace.openai_utils.prompts import (\n",
        "    UserRolePrompt,\n",
        "    SystemRolePrompt,\n",
        "    AssistantRolePrompt,\n",
        ")\n",
        "import numpy as np\n",
        "\n",
        "USER_PROMPT_TEMPLATE = \"\"\" \\\n",
        "Context:\n",
        "{context}\n",
        "\n",
        "User Query:\n",
        "{user_query}\n",
        "\"\"\"\n",
        "\n",
        "# implemented euclidean distance function\n",
        "def euclidean_distance(vector_a: np.array, vector_b: np.array) -> float:\n",
        "    return  -1 * (np.linalg.norm(vector_a - vector_b))\n",
        "        \n",
        "        \n",
        "\n",
        "# 1. Create enhanced RAG pipeline with improved prompt and new distance metric support\n",
        "class EnhancedRAGPipeline:\n",
        "    def __init__(self, llm: ChatOpenAI, vector_db_retriever: VectorDatabase) -> None:\n",
        "        self.llm = llm\n",
        "        self.vector_db_retriever = vector_db_retriever\n",
        "        \n",
        "        # Enhanced system prompt with Chain of Thought reasoning\n",
        "        self.system_prompt = SystemRolePrompt(\"\"\"\n",
        "        Use the provided context to answer the user's query.\n",
        "        \n",
        "        Think through your answer step by step:\n",
        "        1. First, analyze the relevant information from the provided context\n",
        "        2. Identify the key points that address the user's query\n",
        "        3. Organize this information into a clear, structured response\n",
        "        4. If multiple pieces of context provide different perspectives, synthesize them\n",
        "        \n",
        "        You may not answer the user's query unless there is specific context in the following text.\n",
        "        If you do not know the answer, or cannot answer, please respond with \"I don't know\".\n",
        "        \"\"\")\n",
        "        \n",
        "        self.user_prompt = UserRolePrompt(USER_PROMPT_TEMPLATE)\n",
        "    \n",
        "    def run_pipeline(self, user_query: str, k: int = 4, metric: str='cosine') -> dict:\n",
        "        \"\"\"\n",
        "        Run the enhanced RAG pipeline with choice of similarity metric\n",
        "        \n",
        "        Args:\n",
        "            user_query: The user's question\n",
        "            k: Number of context items to retrieve\n",
        "            metric: \"cosine\" or \"euclidean\" for distance calculation\n",
        "        \"\"\"\n",
        "        context_list = []\n",
        "\n",
        "        if metric == 'euclidean':\n",
        "            context_list = self.vector_db_retriever.search_by_text(user_query, k=k, distance_measure=euclidean_distance)\n",
        "        else:\n",
        "            context_list = self.vector_db_retriever.search_by_text(user_query, k=k)\n",
        "        \n",
        "        # Format context, including any metadata if available\n",
        "        context_prompt = \"\"\n",
        "        for text,_ in context_list:\n",
        "            \n",
        "            context_prompt += f\"{text}\\n\\n\"\n",
        "                \n",
        "        formatted_system_prompt = self.system_prompt.create_message()\n",
        "        formatted_user_prompt = self.user_prompt.create_message(\n",
        "            user_query=user_query, \n",
        "            context=context_prompt\n",
        "        )\n",
        "        \n",
        "        return {\n",
        "            \"response\": self.llm.run([formatted_system_prompt, formatted_user_prompt], temperature=0.2),\n",
        "            \"context\": context_list\n",
        "        }\n",
        "\n",
        "\n",
        "chat_openai = ChatOpenAI()\n",
        "# Create enhanced RAG pipeline\n",
        "enhanced_rag_pipeline = EnhancedRAGPipeline(\n",
        "    vector_db_retriever=vector_db,\n",
        "    llm=chat_openai\n",
        ")\n",
        "\n"
      ]
    },
    {
      "cell_type": "code",
      "execution_count": 33,
      "metadata": {},
      "outputs": [],
      "source": [
        "import os\n",
        "from glob import glob\n",
        "\n",
        "# Function to get all pdf, txt, and md files in a directory\n",
        "def load_file_list(directory=\"data\", extensions=[\"pdf\", \"txt\", \"md\"]):\n",
        "    \"\"\"\n",
        "    Lists all files with specified extensions in the given directory.\n",
        "    \n",
        "    Args:\n",
        "        directory (str): Directory to search for files\n",
        "        extensions (list): List of file extensions to include\n",
        "    \n",
        "    Returns:\n",
        "        list: List of file paths found\n",
        "    \"\"\"\n",
        "    all_files = []\n",
        "    \n",
        "    # Make sure the directory exists\n",
        "    if not os.path.exists(directory):\n",
        "        print(f\"Directory '{directory}' does not exist\")\n",
        "        return all_files\n",
        "    \n",
        "    # Get all files with specified extensions\n",
        "    for ext in extensions:\n",
        "        pattern = os.path.join(directory, f\"*.{ext}\")\n",
        "        files = glob(pattern)\n",
        "        all_files.extend(files)\n",
        "    \n",
        "    return sorted(all_files)\n",
        "\n",
        "# Function to display files with selection options\n",
        "def display_file_info():\n",
        "    files = load_file_list()\n",
        "    \n",
        "    if not files:\n",
        "        return \"No files found in data directory\"\n",
        "    \n",
        "    result = \"### Available Files\\n\\n\"\n",
        "    for i, file_path in enumerate(files):\n",
        "        file_name = os.path.basename(file_path)\n",
        "        file_size = os.path.getsize(file_path) / 1024  # Size in KB\n",
        "        result += f\"{i+1}. **{file_name}** ({file_size:.1f} KB)\\n\"\n",
        "    \n",
        "    return result\n",
        "\n"
      ]
    },
    {
      "cell_type": "code",
      "execution_count": 34,
      "metadata": {},
      "outputs": [],
      "source": [
        "# from IPython.display import display, Markdown\n",
        "# display(Markdown(display_file_info()))"
      ]
    },
    {
      "cell_type": "code",
      "execution_count": 35,
      "metadata": {},
      "outputs": [],
      "source": [
        "import json\n",
        "def parse_json_output(json_output: str) -> dict:\n",
        "    \"\"\"\n",
        "    Parses JSON output from the model and returns a dictionary.\n",
        "    \n",
        "    Args:\n",
        "        json_output (str): JSON output as a string\n",
        "        \n",
        "    Returns:\n",
        "        dict: Parsed JSON data\n",
        "    \"\"\"\n",
        "    try:\n",
        "        return json.loads(json_output)\n",
        "    except json.JSONDecodeError as e:\n",
        "        print(f\"Error parsing JSON: {e}\")\n",
        "        return {}\n",
        "    \n",
        "def get_summary_and_questions(content: str) -> Tuple[List[str], str]:\n",
        "    \"\"\"\n",
        "    Extracts summary and questions from the content.\n",
        "    \n",
        "    Args:\n",
        "        content (str): Content to analyze\n",
        "        \n",
        "    Returns:\n",
        "        Tuple[List[str], str]: List of questions and summary\n",
        "    \"\"\"\n",
        "    # Use the chat model to get the summary and questions\n",
        "\n",
        "    user_prompt_template = \"Analyze and generate RAG questions\\n\\n{content}\"\n",
        "    user_role_prompt = UserRolePrompt(user_prompt_template)\n",
        "    system_prompt_template = \"\"\"\n",
        "    You are an expert AI researcher who specializes in reading and analyzing academic papers.\n",
        "    Your task is to help users understand complex research papers by explaining concepts clearly, identifying key methodologies, and answering questions about the paper's findings. When presented with an abstract or content from a paper, you should be able to extract the main research questions, methodologies, results, and limitations.\n",
        "    Your responses should be well-structured, accurate, and accessible to users with various levels of technical knowledge.\n",
        "    You should also be able to generate questions based on the content provided to you, which can help users think critically about the material.\n",
        "    Generate output in JSON format with the following keys:\n",
        "    - \"questions\": A list of questions generated from the content.\n",
        "    - \"summary\": A brief summary of the content.\n",
        "\n",
        "    The output should be in the following format:\n",
        "    {output}\n",
        "    \"\"\"\n",
        "\n",
        "    example_output = \"\"\"\n",
        "    {\n",
        "        \"questions\": [\n",
        "            \"What are the main findings of the research?\",\n",
        "            \"What methodologies were used in the study?\",\n",
        "            \"What are the limitations of the research?\",\n",
        "            \"How does this research contribute to the field?\"\n",
        "        ],\n",
        "        \"summary\": \"The research explores the impact of X on Y, using methodology Z. The findings suggest that A leads to B, with limitations including C and D. This contributes to the field by providing insights into E.\"\n",
        "    }\n",
        "    \"\"\"\n",
        "    \n",
        "\n",
        "    # Set up the system prompt with the example output\n",
        "    system_role_prompt = SystemRolePrompt(system_prompt_template)\n",
        "\n",
        "    messages = [\n",
        "        system_role_prompt.create_message(output=example_output),\n",
        "        user_role_prompt.create_message(content=content)\n",
        "    ]\n",
        "\n",
        "    # Get response from the model with JSON format\n",
        "    response = chat_openai.run(messages, temperature=0.1,response_format={\"type\": \"json_object\"})\n",
        "    \n",
        "    # Print the response for debugging  \n",
        "    print(f\"Response: {response}\")  \n",
        "    # Parse the JSON output\n",
        "    parsed_response = parse_json_output(response)\n",
        "    \n",
        "    return parsed_response.get(\"questions\", []), parsed_response.get(\"summary\", \"\")"
      ]
    },
    {
      "cell_type": "code",
      "execution_count": 36,
      "metadata": {},
      "outputs": [
        {
          "name": "stdout",
          "output_type": "stream",
          "text": [
            "Response: {\n",
            "    \"questions\": [\n",
            "        \"What are the key reasons provided for why one might choose not to start a startup?\",\n",
            "        \"What insights does Marc Andreessen offer regarding venture capitalists' responses?\",\n",
            "        \"How does Andreessen suggest one should approach hiring in startups?\",\n",
            "        \"What psychological biases does the blog address in relation to entrepreneurship?\",\n",
            "        \"What are the main themes covered in the Pmarca Guide to Startups?\"\n",
            "    ],\n",
            "    \"summary\": \"The Pmarca Blog Archives, authored by Marc Andreessen, compiles insights and experiences related to startups, hiring, and entrepreneurship. It includes various guides addressing why one might avoid starting a startup, how to navigate venture capital, effective hiring practices, and psychological factors influencing entrepreneurs. The content reflects Andreessen's extensive experience with multiple startups, providing valuable lessons and observations for aspiring entrepreneurs.\"\n",
            "}\n"
          ]
        }
      ],
      "source": [
        "# create dictionary to vector db by dataset name\n",
        "questions, summary = get_summary_and_questions(documents[0][:2000])\n",
        "vector_db = VectorDatabase()\n",
        "vector_db = asyncio.run(vector_db.abuild_from_list(split_documents))"
      ]
    },
    {
      "cell_type": "code",
      "execution_count": 37,
      "metadata": {},
      "outputs": [],
      "source": [
        "vector_db_by_dataset = {\n",
        "    \"data/PMarcaBlogs.txt\": {'db':vector_db,'summary':summary,'questions':questions}\n",
        "}"
      ]
    },
    {
      "cell_type": "code",
      "execution_count": 38,
      "metadata": {},
      "outputs": [],
      "source": [
        "def load_dataset_from_selected_file(file_path: str) -> None:\n",
        "    \"\"\"\n",
        "    Loads the selected file and returns its content.\n",
        "    \n",
        "    Args:\n",
        "        file_path (str): Path to the file\n",
        "        \n",
        "    \n",
        "    \"\"\"\n",
        "    if not os.path.exists(file_path):\n",
        "        print(f\"File '{file_path}' does not exist\")\n",
        "    \n",
        "    global summary\n",
        "    global questions \n",
        "\n",
        "    if file_path in vector_db_by_dataset:\n",
        "        questions = vector_db_by_dataset[file_path]['questions']\n",
        "        summary = vector_db_by_dataset[file_path]['summary']\n",
        "        enhanced_rag_pipeline.vector_db_retriever = vector_db_by_dataset[file_path]['db']\n",
        "    else:\n",
        "        \n",
        "        documents = []\n",
        "        # Load the selected file into the vector database\n",
        "        if file_path.endswith('.pdf'):\n",
        "            from aimakerspace.PDFTextExtractor import PDFTextExtractor\n",
        "            pdf_extractor = PDFTextExtractor(file_path)\n",
        "            documents = pdf_extractor.split_documents()\n",
        "        else:\n",
        "            text_loader = TextFileLoader(file_path)\n",
        "            documents = text_loader.load_documents()\n",
        "            \n",
        "        text_splitter = CharacterTextSplitter()\n",
        "        split_documents = text_splitter.split_texts(documents)\n",
        "        # Build the vector database from the split documents\n",
        "        vector_db = VectorDatabase()\n",
        "        vector_db = asyncio.run(vector_db.abuild_from_list(split_documents))\n",
        "        vector_db_by_dataset[file_path] = vector_db\n",
        "        \n",
        "        enhanced_rag_pipeline.vector_db_retriever = vector_db\n",
        "        \n",
        "         # Get summary and questions\n",
        "        questions, summary = get_summary_and_questions(documents[0][:2000])\n",
        "        # Store in the dictionary\n",
        "        vector_db_by_dataset[file_path] = {'db':vector_db,'summary':summary,'questions':questions}\n",
        "        "
      ]
    },
    {
      "cell_type": "code",
      "execution_count": null,
      "metadata": {},
      "outputs": [
        {
          "name": "stderr",
          "output_type": "stream",
          "text": [
            "/tmp/ipykernel_66700/1646829267.py:146: DeprecationWarning: on_submit is deprecated. Instead, set the .continuous_update attribute to False and observe the value changing with: mywidget.observe(callback, 'value').\n",
            "  question_input.on_submit(lambda _: on_send_click(None))\n"
          ]
        },
        {
          "data": {
            "application/vnd.jupyter.widget-view+json": {
              "model_id": "8ff2839fe9984184a1c6977f9dc7c22b",
              "version_major": 2,
              "version_minor": 0
            },
            "text/plain": [
              "VBox(children=(HTML(value='<h2>Chat with Your Documents</h2>'), Dropdown(description='Select File:', index=3, …"
            ]
          },
          "metadata": {},
          "output_type": "display_data"
        }
      ],
      "source": [
        "import ipywidgets as widgets\n",
        "from IPython.display import clear_output, display, Markdown\n",
        "\n",
        "# === Function to create consistent widget styles ===\n",
        "def create_widget_layout(width='300px'):\n",
        "    return widgets.Layout(width=width, margin='5px 0')\n",
        "\n",
        "def create_description_style():\n",
        "    return {'description_width': '80px'}\n",
        "\n",
        "# === UI Components Creation ===\n",
        "# File selection\n",
        "file_dropdown = widgets.Dropdown(\n",
        "    options=load_file_list(),\n",
        "    value=\"data/PMarcaBlogs.txt\",\n",
        "    description='Select File:',\n",
        "    disabled=False,\n",
        "    layout=create_widget_layout(),\n",
        "    style=create_description_style()\n",
        ")\n",
        "\n",
        "# Search settings\n",
        "k_slider = widgets.IntSlider(\n",
        "    value=4, min=1, max=10, step=1,\n",
        "    description='Top K:',\n",
        "    tooltip='Select number of context chunks to retrieve',\n",
        "    continuous_update=False,\n",
        "    layout=create_widget_layout(),\n",
        "    style=create_description_style()\n",
        ")\n",
        "\n",
        "metric_dropdown = widgets.Dropdown(\n",
        "    options=['cosine', 'euclidean'],\n",
        "    value='cosine',\n",
        "    description='Metric:',\n",
        "    layout=create_widget_layout(),\n",
        "    style=create_description_style()\n",
        ")\n",
        "\n",
        "# Chat input\n",
        "question_input = widgets.Text(\n",
        "    value='',\n",
        "    placeholder='Type your question here...',\n",
        "    description='',\n",
        "    continuous_update=False,\n",
        "    layout=widgets.Layout(width='90%')\n",
        ")\n",
        "\n",
        "send_button = widgets.Button(\n",
        "    description='',\n",
        "    button_style='primary',\n",
        "    tooltip='Send message',\n",
        "    icon='paper-plane',\n",
        "    layout=widgets.Layout(width='50px')\n",
        ")\n",
        "\n",
        "# Output areas\n",
        "output_area = widgets.Output()\n",
        "chat_history = widgets.Output(\n",
        "    layout=widgets.Layout(\n",
        "        height='500px', \n",
        "        border='1px solid #ddd', \n",
        "        padding='8px', \n",
        "        overflow_y='auto',\n",
        "        margin='10px 0'\n",
        "    )\n",
        ")\n",
        "summary_output = widgets.Output()\n",
        "questions_output = widgets.Output()\n",
        "\n",
        "# === Display Functions ===\n",
        "def display_summary():\n",
        "    with summary_output:\n",
        "        clear_output(wait=True)\n",
        "        display(Markdown(\"### Summary:\"))\n",
        "        display(Markdown(summary))\n",
        "\n",
        "def display_questions():\n",
        "    with questions_output:\n",
        "        clear_output(wait=True)\n",
        "        display(Markdown(\"### Suggested Questions:\"))\n",
        "        questions_box = widgets.HBox(layout=widgets.Layout(flex_wrap='wrap'))\n",
        "        \n",
        "        def on_question_click(b):\n",
        "            question_input.value = b.description\n",
        "            \n",
        "        for question in questions:\n",
        "            button = widgets.Button(\n",
        "                description=question, \n",
        "                button_style='info', \n",
        "                layout=widgets.Layout(width='auto', margin='2px')\n",
        "            )\n",
        "            button.on_click(on_question_click)\n",
        "            questions_box.children += (button,)\n",
        "        display(questions_box)\n",
        "\n",
        "# === Event Handlers ===\n",
        "def on_send_click(b):\n",
        "    question = question_input.value.strip()\n",
        "    if not question:\n",
        "        return\n",
        "        \n",
        "    with chat_history:\n",
        "        clear_output(wait=True)\n",
        "        display(Markdown(f\"<div style='text-align: right; margin: 8px 0;'><span style='background-color: #e1f5fe; padding: 8px 12px; border-radius: 15px; display: inline-block;'><b>You:</b> {question}</span></div>\"))\n",
        "        display(Markdown(\"<div style='margin: 8px 0;'><span style='background-color: #f1f1f1; padding: 8px 12px; border-radius: 15px; display: inline-block;'><b>Assistant:</b> Thinking...</span></div>\"))\n",
        "    \n",
        "    # Get response using the RAG pipeline\n",
        "    result = enhanced_rag_pipeline.run_pipeline(\n",
        "        question, \n",
        "        k=k_slider.value, \n",
        "        metric=metric_dropdown.value\n",
        "    )\n",
        "    \n",
        "    with chat_history:\n",
        "        clear_output(wait=True)\n",
        "        display(Markdown(f\"<div style='text-align: right; margin: 8px 0;'><span style='background-color: #e1f5fe; padding: 8px 12px; border-radius: 15px; display: inline-block;'><b>You:</b> {question}</span></div>\"))\n",
        "        display(Markdown(f\"<div style='margin: 8px 0;'><span style='background-color: #f1f1f1; padding: 8px 12px; border-radius: 15px; display: inline-block;'><b>Assistant:</b> {result['response']}</span></div>\"))\n",
        "        \n",
        "        sources_html = \"<details><summary><b>Sources</b></summary><div style='margin-left: 20px; font-size: 0.9em;'>\"\n",
        "        for i, (text, score) in enumerate(result['context']):\n",
        "            preview = text[:150].replace('\\n', ' ') + \"...\" if len(text) > 150 else text\n",
        "            sources_html += f\"<p><b>Source {i+1}</b> (score: {score:.4f}):<br><code>{preview}</code></p>\"\n",
        "        sources_html += \"</div></details>\"\n",
        "        display(Markdown(sources_html))\n",
        "    \n",
        "    question_input.value = ''\n",
        "\n",
        "def load_selected_file(change):\n",
        "    selected_file = file_dropdown.value\n",
        "    if selected_file:\n",
        "        with output_area:\n",
        "            clear_output(wait=True)\n",
        "            display(Markdown(f\"Loading **{selected_file}**...\"))\n",
        "            load_dataset_from_selected_file(selected_file)\n",
        "            clear_output(wait=True)\n",
        "            display(Markdown(f\"Loaded **{selected_file}**!\"))\n",
        "        \n",
        "        display_summary()\n",
        "        display_questions()\n",
        "        \n",
        "        with chat_history:\n",
        "            clear_output()\n",
        "\n",
        "# === Connect events ===\n",
        "send_button.on_click(on_send_click)\n",
        "question_input.on_submit(lambda _: on_send_click(None))\n",
        "file_dropdown.observe(load_selected_file, names='value')\n",
        "\n",
        "# === UI Layout ===\n",
        "# Header\n",
        "header = widgets.HTML(\"<h2>Chat with Your Documents</h2>\")\n",
        "\n",
        "# Group settings in accordion\n",
        "settings_box = widgets.VBox([k_slider, metric_dropdown])\n",
        "settings = widgets.Accordion(\n",
        "    children=[settings_box], \n",
        "    titles=('Search Settings',)\n",
        ")\n",
        "\n",
        "# Chat input area\n",
        "input_area = widgets.HBox(\n",
        "    [question_input, send_button], \n",
        "    layout=widgets.Layout(width='100%', margin='5px 0')\n",
        ")\n",
        "\n",
        "# Main container\n",
        "widgets_container = widgets.VBox([\n",
        "    header,\n",
        "    file_dropdown,\n",
        "    widgets.HBox([\n",
        "        widgets.VBox([summary_output, questions_output], layout=widgets.Layout(width='100%')),\n",
        "    ], layout=widgets.Layout(margin='10px 0')),\n",
        "    settings,\n",
        "    chat_history,\n",
        "    input_area,\n",
        "], layout=widgets.Layout(padding='10px'))\n",
        "\n",
        "# Initial UI setup\n",
        "display_summary()\n",
        "display_questions()\n",
        "display(widgets_container)"
      ]
    }
  ],
  "metadata": {
    "colab": {
      "provenance": []
    },
    "kernelspec": {
      "display_name": ".venv",
      "language": "python",
      "name": "python3"
    },
    "language_info": {
      "codemirror_mode": {
        "name": "ipython",
        "version": 3
      },
      "file_extension": ".py",
      "mimetype": "text/x-python",
      "name": "python",
      "nbconvert_exporter": "python",
      "pygments_lexer": "ipython3",
      "version": "3.12.3"
    },
    "orig_nbformat": 4,
    "widgets": {
      "application/vnd.jupyter.widget-state+json": {
        "1ce393d9afcf427d9d352259c5d32678": {
          "model_module": "@jupyter-widgets/controls",
          "model_module_version": "1.5.0",
          "model_name": "FloatProgressModel",
          "state": {
            "_dom_classes": [],
            "_model_module": "@jupyter-widgets/controls",
            "_model_module_version": "1.5.0",
            "_model_name": "FloatProgressModel",
            "_view_count": null,
            "_view_module": "@jupyter-widgets/controls",
            "_view_module_version": "1.5.0",
            "_view_name": "ProgressView",
            "bar_style": "",
            "description": "",
            "description_tooltip": null,
            "layout": "IPY_MODEL_4e6efd99f7d346e485b002fb0fa85cc7",
            "max": 1,
            "min": 0,
            "orientation": "horizontal",
            "style": "IPY_MODEL_3dfb67c39958461da6071e4c19c3fa41",
            "value": 1
          }
        },
        "3a4ba348cb004f8ab7b2b1395539c81b": {
          "model_module": "@jupyter-widgets/controls",
          "model_module_version": "1.5.0",
          "model_name": "LabelModel",
          "state": {
            "_dom_classes": [],
            "_model_module": "@jupyter-widgets/controls",
            "_model_module_version": "1.5.0",
            "_model_name": "LabelModel",
            "_view_count": null,
            "_view_module": "@jupyter-widgets/controls",
            "_view_module_version": "1.5.0",
            "_view_name": "LabelView",
            "description": "",
            "description_tooltip": null,
            "layout": "IPY_MODEL_d2ea5009dd16442cb5d8a0ac468e50a8",
            "placeholder": "​",
            "style": "IPY_MODEL_5f00135fe1044051a50ee5e841cbb8e3",
            "value": "0.018 MB of 0.018 MB uploaded\r"
          }
        },
        "3dfb67c39958461da6071e4c19c3fa41": {
          "model_module": "@jupyter-widgets/controls",
          "model_module_version": "1.5.0",
          "model_name": "ProgressStyleModel",
          "state": {
            "_model_module": "@jupyter-widgets/controls",
            "_model_module_version": "1.5.0",
            "_model_name": "ProgressStyleModel",
            "_view_count": null,
            "_view_module": "@jupyter-widgets/base",
            "_view_module_version": "1.2.0",
            "_view_name": "StyleView",
            "bar_color": null,
            "description_width": ""
          }
        },
        "4e6efd99f7d346e485b002fb0fa85cc7": {
          "model_module": "@jupyter-widgets/base",
          "model_module_version": "1.2.0",
          "model_name": "LayoutModel",
          "state": {
            "_model_module": "@jupyter-widgets/base",
            "_model_module_version": "1.2.0",
            "_model_name": "LayoutModel",
            "_view_count": null,
            "_view_module": "@jupyter-widgets/base",
            "_view_module_version": "1.2.0",
            "_view_name": "LayoutView",
            "align_content": null,
            "align_items": null,
            "align_self": null,
            "border": null,
            "bottom": null,
            "display": null,
            "flex": null,
            "flex_flow": null,
            "grid_area": null,
            "grid_auto_columns": null,
            "grid_auto_flow": null,
            "grid_auto_rows": null,
            "grid_column": null,
            "grid_gap": null,
            "grid_row": null,
            "grid_template_areas": null,
            "grid_template_columns": null,
            "grid_template_rows": null,
            "height": null,
            "justify_content": null,
            "justify_items": null,
            "left": null,
            "margin": null,
            "max_height": null,
            "max_width": null,
            "min_height": null,
            "min_width": null,
            "object_fit": null,
            "object_position": null,
            "order": null,
            "overflow": null,
            "overflow_x": null,
            "overflow_y": null,
            "padding": null,
            "right": null,
            "top": null,
            "visibility": null,
            "width": null
          }
        },
        "56a8e24025594e5e9ff3b8581c344691": {
          "model_module": "@jupyter-widgets/base",
          "model_module_version": "1.2.0",
          "model_name": "LayoutModel",
          "state": {
            "_model_module": "@jupyter-widgets/base",
            "_model_module_version": "1.2.0",
            "_model_name": "LayoutModel",
            "_view_count": null,
            "_view_module": "@jupyter-widgets/base",
            "_view_module_version": "1.2.0",
            "_view_name": "LayoutView",
            "align_content": null,
            "align_items": null,
            "align_self": null,
            "border": null,
            "bottom": null,
            "display": null,
            "flex": null,
            "flex_flow": null,
            "grid_area": null,
            "grid_auto_columns": null,
            "grid_auto_flow": null,
            "grid_auto_rows": null,
            "grid_column": null,
            "grid_gap": null,
            "grid_row": null,
            "grid_template_areas": null,
            "grid_template_columns": null,
            "grid_template_rows": null,
            "height": null,
            "justify_content": null,
            "justify_items": null,
            "left": null,
            "margin": null,
            "max_height": null,
            "max_width": null,
            "min_height": null,
            "min_width": null,
            "object_fit": null,
            "object_position": null,
            "order": null,
            "overflow": null,
            "overflow_x": null,
            "overflow_y": null,
            "padding": null,
            "right": null,
            "top": null,
            "visibility": null,
            "width": null
          }
        },
        "5f00135fe1044051a50ee5e841cbb8e3": {
          "model_module": "@jupyter-widgets/controls",
          "model_module_version": "1.5.0",
          "model_name": "DescriptionStyleModel",
          "state": {
            "_model_module": "@jupyter-widgets/controls",
            "_model_module_version": "1.5.0",
            "_model_name": "DescriptionStyleModel",
            "_view_count": null,
            "_view_module": "@jupyter-widgets/base",
            "_view_module_version": "1.2.0",
            "_view_name": "StyleView",
            "description_width": ""
          }
        },
        "bb904e05ece143c79ecc4f20de482f45": {
          "model_module": "@jupyter-widgets/controls",
          "model_module_version": "1.5.0",
          "model_name": "VBoxModel",
          "state": {
            "_dom_classes": [],
            "_model_module": "@jupyter-widgets/controls",
            "_model_module_version": "1.5.0",
            "_model_name": "VBoxModel",
            "_view_count": null,
            "_view_module": "@jupyter-widgets/controls",
            "_view_module_version": "1.5.0",
            "_view_name": "VBoxView",
            "box_style": "",
            "children": [
              "IPY_MODEL_3a4ba348cb004f8ab7b2b1395539c81b",
              "IPY_MODEL_1ce393d9afcf427d9d352259c5d32678"
            ],
            "layout": "IPY_MODEL_56a8e24025594e5e9ff3b8581c344691"
          }
        },
        "d2ea5009dd16442cb5d8a0ac468e50a8": {
          "model_module": "@jupyter-widgets/base",
          "model_module_version": "1.2.0",
          "model_name": "LayoutModel",
          "state": {
            "_model_module": "@jupyter-widgets/base",
            "_model_module_version": "1.2.0",
            "_model_name": "LayoutModel",
            "_view_count": null,
            "_view_module": "@jupyter-widgets/base",
            "_view_module_version": "1.2.0",
            "_view_name": "LayoutView",
            "align_content": null,
            "align_items": null,
            "align_self": null,
            "border": null,
            "bottom": null,
            "display": null,
            "flex": null,
            "flex_flow": null,
            "grid_area": null,
            "grid_auto_columns": null,
            "grid_auto_flow": null,
            "grid_auto_rows": null,
            "grid_column": null,
            "grid_gap": null,
            "grid_row": null,
            "grid_template_areas": null,
            "grid_template_columns": null,
            "grid_template_rows": null,
            "height": null,
            "justify_content": null,
            "justify_items": null,
            "left": null,
            "margin": null,
            "max_height": null,
            "max_width": null,
            "min_height": null,
            "min_width": null,
            "object_fit": null,
            "object_position": null,
            "order": null,
            "overflow": null,
            "overflow_x": null,
            "overflow_y": null,
            "padding": null,
            "right": null,
            "top": null,
            "visibility": null,
            "width": null
          }
        }
      }
    }
  },
  "nbformat": 4,
  "nbformat_minor": 0
}
