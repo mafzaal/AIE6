{
 "cells": [
  {
   "cell_type": "code",
   "execution_count": 2,
   "id": "47810a4c",
   "metadata": {},
   "outputs": [],
   "source": [
    "\n",
    "import os\n",
    "import getpass\n",
    "\n",
    "os.environ[\"XAI_API_KEY\"] = getpass.getpass(\"Enter your XAI API Key:\")"
   ]
  },
  {
   "cell_type": "code",
   "execution_count": 4,
   "id": "1b9ff8a9",
   "metadata": {},
   "outputs": [],
   "source": [
    "from langchain_xai import ChatXAI\n",
    "\n",
    "llm = ChatXAI(model=\"grok-3-latest\")\n",
    "\n",
    "# Using invoke (synchronous)\n",
    "# response = chat.invoke(\"Tell me about Grok 3\")\n",
    "\n",
    "# Using stream (asynchronous)\n",
    "# for chunk in llm.stream(\"What is 2 + 2?\"):\n",
    "#     print(chunk.content, end=\"\", flush=True)"
   ]
  },
  {
   "cell_type": "code",
   "execution_count": null,
   "id": "f6f65a7f",
   "metadata": {},
   "outputs": [
    {
     "name": "stdout",
     "output_type": "stream",
     "text": [
      "Yes, people generally liked *John Wick*. The 2014 action film, starring Keanu Reeves, received widespread praise from both audiences and critics. It holds an 86% approval rating on Rotten Tomatoes based on critic reviews and an 85% audience score, indicating strong positive reception. Fans often highlight the movie's stylish action choreography, Reeves' intense performance, and the unique world-building around the assassin underworld. On platforms like IMDb, it has a rating of 7.4/10 based on over 700,000 user votes, further showing its popularity.\n",
      "\n",
      "The film also gained a cult following, spawning three sequels (with a fourth released in 2023) and a prequel series, *The Continental*. Social media and online discussions often reflect enthusiasm for the character and the franchise, with many appreciating its emotional depth (centered on Wick's grief) alongside the high-octane action. However, some viewers criticize the plot for being thin or overly simplistic, focusing more on revenge than complex storytelling. Despite this, the general consensus leans heavily positive, especially for action movie fans."
     ]
    }
   ],
   "source": [
    "from langchain_core.prompts import ChatPromptTemplate\n",
    "from langchain_core.runnables import chain\n",
    "\n",
    "prompt = ChatPromptTemplate.from_messages(\n",
    "    [\n",
    "        (\"system\", \"You are a helpful assistant.\"),\n",
    "        (\"user\", \"{input}\"),\n",
    "    ]\n",
    ")\n",
    "\n",
    "chain = prompt | llm\n",
    "\n",
    "for chunk in chain.stream({\"input\": \"Did people generally like John Wick?\"}):\n",
    "    print(chunk.content, end=\"\", flush=True)"
   ]
  },
  {
   "cell_type": "code",
   "execution_count": 8,
   "id": "1511bcc2",
   "metadata": {},
   "outputs": [
    {
     "name": "stdout",
     "output_type": "stream",
     "text": [
      "The capital of France is Paris.\n"
     ]
    }
   ],
   "source": [
    "from langchain.chat_models.base import init_chat_model\n",
    "\n",
    "grok = init_chat_model(\n",
    "    model=\"grok-3-latest\",\n",
    "    temperature=0.0,\n",
    "    model_provider=\"xai\",\n",
    ")\n",
    "\n",
    "response = grok.invoke(\"What is the capital of France?\")\n",
    "print(response.content)"
   ]
  },
  {
   "cell_type": "code",
   "execution_count": 9,
   "id": "27a4204b",
   "metadata": {},
   "outputs": [],
   "source": [
    "# read files from current directory\n",
    "def read_files_in_directory(directory):\n",
    "    files = []\n",
    "    for filename in os.listdir(directory):\n",
    "        if filename.endswith(\".csv\"):\n",
    "            with open(os.path.join(directory, filename), \"r\") as file:\n",
    "                files.append(file.read())\n",
    "    return files\n",
    "\n",
    "\n",
    "# read files from current directory\n",
    "docs = read_files_in_directory(\".\")\n"
   ]
  },
  {
   "cell_type": "code",
   "execution_count": 10,
   "id": "407c253d",
   "metadata": {},
   "outputs": [
    {
     "name": "stdout",
     "output_type": "stream",
     "text": [
      "14747\n",
      "13884\n",
      "15109\n",
      "19627\n"
     ]
    }
   ],
   "source": [
    "for doc in docs:\n",
    "    print(len(doc))"
   ]
  },
  {
   "cell_type": "code",
   "execution_count": 11,
   "id": "41d051d0",
   "metadata": {},
   "outputs": [],
   "source": [
    "from langchain_community.document_loaders.csv_loader import CSVLoader\n",
    "from datetime import datetime, timedelta\n",
    "\n",
    "documents = []\n",
    "\n",
    "for i in range(1, 5):\n",
    "  loader = CSVLoader(\n",
    "      file_path=f\"john_wick_{i}.csv\",\n",
    "      metadata_columns=[\"Review_Date\", \"Review_Title\", \"Review_Url\", \"Author\", \"Rating\"]\n",
    "  )\n",
    "\n",
    "  movie_docs = loader.load()\n",
    "  for doc in movie_docs:\n",
    "\n",
    "    # Add the \"Movie Title\" (John Wick 1, 2, ...)\n",
    "    doc.metadata[\"Movie_Title\"] = f\"John Wick {i}\"\n",
    "\n",
    "    # convert \"Rating\" to an `int`, if no rating is provided - assume 0 rating\n",
    "    doc.metadata[\"Rating\"] = int(doc.metadata[\"Rating\"]) if doc.metadata[\"Rating\"] else 0\n",
    "\n",
    "    # newer movies have a more recent \"last_accessed_at\"\n",
    "    doc.metadata[\"last_accessed_at\"] = datetime.now() - timedelta(days=4-i)\n",
    "\n",
    "  documents.extend(movie_docs)"
   ]
  },
  {
   "cell_type": "code",
   "execution_count": 13,
   "id": "598d01c9",
   "metadata": {},
   "outputs": [
    {
     "data": {
      "text/plain": [
       "Document(metadata={'source': 'john_wick_1.csv', 'row': 0, 'Review_Date': '6 May 2015', 'Review_Title': ' Kinetic, concise, and stylish; John Wick kicks ass.\\n', 'Review_Url': '/review/rw3233896/?ref_=tt_urv', 'Author': 'lnvicta', 'Rating': 8, 'Movie_Title': 'John Wick 1', 'last_accessed_at': datetime.datetime(2025, 5, 14, 19, 22, 36, 57929)}, page_content=\": 0\\nReview: The best way I can describe John Wick is to picture Taken but instead of Liam Neeson it's Keanu Reeves and instead of his daughter it's his dog. That's essentially the plot of the movie. John Wick (Reeves) is out to seek revenge on the people who took something he loved from him. It's a beautifully simple premise for an action movie - when action movies get convoluted, they get bad i.e. A Good Day to Die Hard. John Wick gives the viewers what they want: Awesome action, stylish stunts, kinetic chaos, and a relatable hero to tie it all together. John Wick succeeds in its simplicity.\")"
      ]
     },
     "execution_count": 13,
     "metadata": {},
     "output_type": "execute_result"
    }
   ],
   "source": [
    "documents[0]"
   ]
  },
  {
   "cell_type": "code",
   "execution_count": 15,
   "id": "9d3b295f",
   "metadata": {},
   "outputs": [
    {
     "data": {
      "application/vnd.jupyter.widget-view+json": {
       "model_id": "e2f158f566e24e938984c06c08c1148f",
       "version_major": 2,
       "version_minor": 0
      },
      "text/plain": [
       "Applying SummaryExtractor:   0%|          | 0/44 [00:00<?, ?it/s]"
      ]
     },
     "metadata": {},
     "output_type": "display_data"
    },
    {
     "data": {
      "application/vnd.jupyter.widget-view+json": {
       "model_id": "f0c9a646646c491ab714743323de5292",
       "version_major": 2,
       "version_minor": 0
      },
      "text/plain": [
       "Applying CustomNodeFilter:   0%|          | 0/100 [00:00<?, ?it/s]"
      ]
     },
     "metadata": {},
     "output_type": "display_data"
    },
    {
     "name": "stderr",
     "output_type": "stream",
     "text": [
      "Node 58438866-9440-4036-bc4c-51c5cb605d2a does not have a summary. Skipping filtering.\n",
      "Node 8957a221-cf9a-4d99-adde-ff6d5087476d does not have a summary. Skipping filtering.\n",
      "Node 59628820-48c3-49b1-aea7-4776ff70f81d does not have a summary. Skipping filtering.\n",
      "Node 49b09e6b-636d-4c1f-ae34-16585503458f does not have a summary. Skipping filtering.\n",
      "Node 62897717-cfaf-4527-bab7-9ef442a4e7d3 does not have a summary. Skipping filtering.\n",
      "Node 29ca929b-db3c-4c67-871e-c022a775ee6a does not have a summary. Skipping filtering.\n",
      "Node 99fdbf90-6102-458c-a37b-965bc1725c17 does not have a summary. Skipping filtering.\n",
      "Node 674323a8-a60d-4c4f-bfc9-34e314cd84b3 does not have a summary. Skipping filtering.\n",
      "Node 4baad603-69fc-4502-9c5c-3d96610023be does not have a summary. Skipping filtering.\n",
      "Node 59d92c27-fbe5-46c6-b521-6ee165e2cf42 does not have a summary. Skipping filtering.\n",
      "Node 04e5a612-ce1c-4c2c-9be2-1e793b9c9292 does not have a summary. Skipping filtering.\n",
      "Node 8681135c-094e-413d-a473-d22902ccc4fd does not have a summary. Skipping filtering.\n",
      "Node 8fb42d3b-9956-4d7f-850e-2bc4356fd83a does not have a summary. Skipping filtering.\n",
      "Node 3354d152-6968-4956-b2c3-89c7c05b318b does not have a summary. Skipping filtering.\n",
      "Node 080b9886-f865-435f-a648-141c658284c9 does not have a summary. Skipping filtering.\n",
      "Node 1366d923-916c-4816-a9e7-f75046e4e948 does not have a summary. Skipping filtering.\n",
      "Node 2796295a-e213-4d10-8f26-2e68980bd989 does not have a summary. Skipping filtering.\n",
      "Node 0fb13cba-1e67-40cf-ac7f-8be2e792b6a2 does not have a summary. Skipping filtering.\n",
      "Node 20b59c01-bf68-4979-bc5a-70d4fab5e60a does not have a summary. Skipping filtering.\n",
      "Node f54cd4a3-51bf-41bb-9ca8-e506c09bf548 does not have a summary. Skipping filtering.\n",
      "Node 0a1377f0-85cb-4319-b73a-1e6e034ebaf0 does not have a summary. Skipping filtering.\n",
      "Node 8e1db0ad-4acf-4bb4-8efa-24c83e75512d does not have a summary. Skipping filtering.\n",
      "Node a9e6169e-b3ac-43ef-b76c-eba817fdff20 does not have a summary. Skipping filtering.\n",
      "Node 4919c9a6-4064-46fe-b7cb-fffdaa83770b does not have a summary. Skipping filtering.\n",
      "Node 54e9f4d3-3fc7-49d6-b9c2-8b5d15f442c1 does not have a summary. Skipping filtering.\n",
      "Node 733918ab-a7dc-4326-a057-41dfe6fc4287 does not have a summary. Skipping filtering.\n",
      "Node 85129805-7f2a-4e5e-aafd-b11f32072c3a does not have a summary. Skipping filtering.\n",
      "Node 218b17a2-cf45-41a3-91f2-cf0aa1150cda does not have a summary. Skipping filtering.\n",
      "Node 36ba0e90-4517-4a45-92a6-b07ad78ade35 does not have a summary. Skipping filtering.\n",
      "Node 2d863ca9-904c-4881-ab1c-80070730fba2 does not have a summary. Skipping filtering.\n",
      "Node e58dc2c1-679b-4b49-9e0e-7b1f6fd7cd8f does not have a summary. Skipping filtering.\n",
      "Node c8ee6575-9af3-45eb-8b9c-fc5d7cea8dfd does not have a summary. Skipping filtering.\n",
      "Node 9d827473-3357-463f-af27-5646b75ea7c9 does not have a summary. Skipping filtering.\n",
      "Node 5e8506d2-b439-491d-966c-d79c8d0b848d does not have a summary. Skipping filtering.\n",
      "Node 6cc38049-5101-4cda-9441-204f147c9290 does not have a summary. Skipping filtering.\n",
      "Node 92a1e90b-e034-48a1-973b-8841a39e5886 does not have a summary. Skipping filtering.\n",
      "Node aa16961e-8144-4bbe-99cd-a17a51ce254d does not have a summary. Skipping filtering.\n",
      "Node 934d7cf0-3a05-4617-832c-396b9d24f41b does not have a summary. Skipping filtering.\n",
      "Node a7a3270e-3872-4afe-98fc-cc7f2700156d does not have a summary. Skipping filtering.\n",
      "Node 9195aa67-1c69-42e0-8927-eef69680c276 does not have a summary. Skipping filtering.\n",
      "Node 8f24f7d7-cc2f-4822-a455-950414c20d3e does not have a summary. Skipping filtering.\n",
      "Node 39717267-391c-4dec-a168-8ae0fdd19e44 does not have a summary. Skipping filtering.\n",
      "Node 4a7f09d7-f2e8-4bb4-bc00-c415296e7f45 does not have a summary. Skipping filtering.\n",
      "Node 9220192a-0338-4bd2-89a9-912829401a11 does not have a summary. Skipping filtering.\n",
      "Node 419fdd4d-8e2f-4205-9447-8e845008327c does not have a summary. Skipping filtering.\n",
      "Node 5d0bb49d-6626-4204-9da9-2845eaad5e44 does not have a summary. Skipping filtering.\n",
      "Node 32f1f0a4-e9c0-43cd-9d83-632bdfc13897 does not have a summary. Skipping filtering.\n",
      "Node 10f9cb8a-f3f7-4fda-833c-a2ba82859b4f does not have a summary. Skipping filtering.\n",
      "Node a999824f-fb93-4631-aa81-9703245b020b does not have a summary. Skipping filtering.\n",
      "Node 3b193733-103d-4d4d-8e0f-8d5b62986b2e does not have a summary. Skipping filtering.\n",
      "Node 8d0bd32b-5d3e-4e0d-adb6-a54938134c21 does not have a summary. Skipping filtering.\n",
      "Node 1d58ea73-0cb6-43f7-bfad-e15035709cbe does not have a summary. Skipping filtering.\n",
      "Node a8a236f1-8e5f-4574-9eff-a643f1ce4676 does not have a summary. Skipping filtering.\n",
      "Node 47c2bfe2-2ee8-4f7c-9f9b-8dc0d7a8b996 does not have a summary. Skipping filtering.\n",
      "Node a4b6ee67-edfd-459d-a2d7-f713b92ce084 does not have a summary. Skipping filtering.\n",
      "Node bcf3ac2a-70fe-487e-83ca-1a959eeef948 does not have a summary. Skipping filtering.\n"
     ]
    },
    {
     "data": {
      "application/vnd.jupyter.widget-view+json": {
       "model_id": "ade04a84992443149b96016afffbfad2",
       "version_major": 2,
       "version_minor": 0
      },
      "text/plain": [
       "Applying [EmbeddingExtractor, ThemesExtractor, NERExtractor]:   0%|          | 0/244 [00:00<?, ?it/s]"
      ]
     },
     "metadata": {},
     "output_type": "display_data"
    },
    {
     "data": {
      "application/vnd.jupyter.widget-view+json": {
       "model_id": "b0ffa11d93dc4df4a3c23b46176681d3",
       "version_major": 2,
       "version_minor": 0
      },
      "text/plain": [
       "Applying [CosineSimilarityBuilder, OverlapScoreBuilder]:   0%|          | 0/2 [00:00<?, ?it/s]"
      ]
     },
     "metadata": {},
     "output_type": "display_data"
    },
    {
     "data": {
      "application/vnd.jupyter.widget-view+json": {
       "model_id": "c13b597cd2dd46ffb708a8b53bc19129",
       "version_major": 2,
       "version_minor": 0
      },
      "text/plain": [
       "Generating personas:   0%|          | 0/3 [00:00<?, ?it/s]"
      ]
     },
     "metadata": {},
     "output_type": "display_data"
    },
    {
     "data": {
      "application/vnd.jupyter.widget-view+json": {
       "model_id": "924f206241d04e0286039d70321e22b6",
       "version_major": 2,
       "version_minor": 0
      },
      "text/plain": [
       "Generating Scenarios:   0%|          | 0/3 [00:00<?, ?it/s]"
      ]
     },
     "metadata": {},
     "output_type": "display_data"
    },
    {
     "data": {
      "application/vnd.jupyter.widget-view+json": {
       "model_id": "d3b43bb8d92b4e61a6d72ca6a76680e0",
       "version_major": 2,
       "version_minor": 0
      },
      "text/plain": [
       "Generating Samples:   0%|          | 0/12 [00:00<?, ?it/s]"
      ]
     },
     "metadata": {},
     "output_type": "display_data"
    }
   ],
   "source": [
    "from ragas.run_config import RunConfig\n",
    "from ragas.testset import TestsetGenerator\n",
    "from ragas.llms import LangchainLLMWrapper\n",
    "from ragas.embeddings import LangchainEmbeddingsWrapper\n",
    "# from langchain_openai import ChatOpenAI\n",
    "# from langchain_openai import OpenAIEmbeddings\n",
    "from langchain_huggingface import HuggingFaceEmbeddings\n",
    "\n",
    "# Create a RunConfig with rate limit settings\n",
    "my_run_config = RunConfig(\n",
    "    max_workers=8,      # Control concurrent requests (default is 16)\n",
    "    timeout=180,         # Maximum time to wait for a single operation (default is 180s)\n",
    "    max_retries=10,      # Maximum number of retry attempts (default is 10)\n",
    "    max_wait=120,         # Maximum wait time between retries (default is 60s)\n",
    "    exception_types=(Exception,)  # Types of exceptions to retry on\n",
    ")\n",
    "\n",
    "# Initialize the generator with the LLM and embedding model\n",
    "generator_llm = LangchainLLMWrapper(grok)\n",
    "generator_embeddings = LangchainEmbeddingsWrapper(HuggingFaceEmbeddings(model_name=\"Snowflake/snowflake-arctic-embed-l\"))\n",
    "\n",
    "# Set the run config for both LLM and embeddings\n",
    "generator_llm.set_run_config(my_run_config)\n",
    "generator_embeddings.set_run_config(my_run_config)\n",
    "\n",
    "generator = TestsetGenerator(llm=generator_llm, embedding_model=generator_embeddings)\n",
    "\n",
    "# Use the run_config in your generate call\n",
    "dataset = generator.generate_with_langchain_docs(\n",
    "    documents=documents, \n",
    "    testset_size=10,\n",
    "    run_config=my_run_config\n",
    ")"
   ]
  },
  {
   "cell_type": "code",
   "execution_count": 16,
   "id": "40a7e078",
   "metadata": {},
   "outputs": [],
   "source": [
    "dataset.to_pandas().to_csv(\"testset.csv\", index=False)"
   ]
  },
  {
   "cell_type": "code",
   "execution_count": 17,
   "id": "de80e96a",
   "metadata": {},
   "outputs": [
    {
     "data": {
      "application/vnd.microsoft.datawrangler.viewer.v0+json": {
       "columns": [
        {
         "name": "index",
         "rawType": "int64",
         "type": "integer"
        },
        {
         "name": "user_input",
         "rawType": "object",
         "type": "string"
        },
        {
         "name": "reference_contexts",
         "rawType": "object",
         "type": "unknown"
        },
        {
         "name": "reference",
         "rawType": "object",
         "type": "string"
        },
        {
         "name": "synthesizer_name",
         "rawType": "object",
         "type": "string"
        }
       ],
       "conversionMethod": "pd.DataFrame",
       "ref": "dd3cd8b5-7bcd-48ef-92f7-ae8ea82bc4ef",
       "rows": [
        [
         "0",
         "Hey, can u tell me what’s the deal with John Wick movie, like what’s the story about and why it’s so cool, ya know?",
         "[\": 0\\nReview: The best way I can describe John Wick is to picture Taken but instead of Liam Neeson it's Keanu Reeves and instead of his daughter it's his dog. That's essentially the plot of the movie. John Wick (Reeves) is out to seek revenge on the people who took something he loved from him. It's a beautifully simple premise for an action movie - when action movies get convoluted, they get bad i.e. A Good Day to Die Hard. John Wick gives the viewers what they want: Awesome action, stylish stunts, kinetic chaos, and a relatable hero to tie it all together. John Wick succeeds in its simplicity.\"]",
         "John Wick is basically like Taken, but with Keanu Reeves instead of Liam Neeson, and it’s about his dog instead of a daughter. The story is simple - John Wick is out for revenge against the people who took something he loved from him. It’s a straightforward premise for an action flick, and that’s why it works so well. When action movies get too complicated, they suck, like A Good Day to Die Hard. John Wick delivers exactly what you want: awesome action, stylish stunts, kinetic chaos, and a relatable hero to bring it all together. Its simplicity is what makes it succeed.",
         "single_hop_specifc_query_synthesizer"
        ],
        [
         "1",
         "What does Cinematic Critic Carl think about John Wick movies?",
         "[': 2\\nReview: With the fourth installment scoring immensely at the cinemas as I\\'m submitting this review, and after three previous films that are apparently loved by everyone else in the world, I thought perhaps it would be time for me check out \"John Wick\".']",
         "Cinematic Critic Carl mentions that with the fourth installment of John Wick scoring immensely at the cinemas and after three previous films that are apparently loved by everyone else in the world, he thought it might be time to check out 'John Wick'.",
         "single_hop_specifc_query_synthesizer"
        ],
        [
         "2",
         "What makes John Wick stand out as an action movie according to reviews?",
         "[': 3\\nReview: John wick has a very simple revenge story. It can be summarized as \"Keanu gets angry and shoots bad guys\" but what makes it special? Directed by Chad Stahelski who\\'s a stunt specialist boy does it show because the main selling point in the film are some real virtuoso action sequences, well made choreographies. Unlike today\\'s action movies, it doesn\\'t use quick-cuts or shaky cameras actually see what\\'s going on.']",
         "John Wick stands out due to its virtuoso action sequences and well-made choreographies. Unlike many modern action movies, it avoids quick-cuts or shaky cameras, allowing viewers to clearly see the action, as highlighted in the review.",
         "single_hop_specifc_query_synthesizer"
        ],
        [
         "3",
         "What role do Russian mobsters play in John Wick?",
         "[': 4\\nReview: Though he no longer has a taste for wet work, retired assassin and \"Boogeyman\" John Wick has suffered a personal tragedy that\\'s left a huge void in his life. When he and his dog (really the last meaningful thing he has left) fall victim to a scummy group of Russian mobsters, he emerges from his shell with vengeance on his mind. Slow and ambiguous at first, but reveals more as it goes along, and once it kicks into gear it rarely lets up with plenty of stylized, visceral action scenes, an impressive arsenal of weaponry, plus sly direction and editing that give it the feel of a violent music video at times. Preposterously fun to watch, it just doesn\\'t have much of a story at its disposal, not to mention all the over-the-top bloodletting and mayhem eventually becomes redundant. Savvy, indestructible Reeves looks right at home, and delivers many of his lines with a sardonic wit. **½']",
         "In John Wick, Russian mobsters are the antagonists who target the retired assassin and his dog, triggering his return to a life of vengeance after they cause him personal tragedy.",
         "single_hop_specifc_query_synthesizer"
        ],
        [
         "4",
         "Heyy, can sum1 plz tell me how da movie revues for 'John Wick' and 'John Wick Chapter 2' differ in ther opinions on da action scenes and overal cinematic experience, considerin da themes of movie review, John Wick, and John Wick Chapter 2? I'm realy curious bout how da first film wuz seen as a suprise hit despite low expectashuns and how da sequel wuz judged on its action inovation or lack thereof, ya know?",
         "[\"<1-hop>\\n\\n: 23\\nReview: Rating 10/10\\nI was able to catch an advanced screening of this movie on 13th of may 2019. One words i can say here is 'amazing' yes ... this movie so amazing !! One of the best action movie i ever seen. All the fighting scenes were choreographed wonderfully according to my opinion. Excellent acting performance by Keanu Reeves a.k.a John Wick. The guns shooting scenes were entirely cool. I would recommend this movie to any fans of action movie. You won't find a better movie of this type in the theatre right now and for the fans out there who appreciate this material, it will provide a memorable experience. Go see it you wont regret it.\", \"<2-hop>\\n\\n: 23\\nReview: I love me a bit of the old ultra-violence, but I also like a plot of some kind to go with all of the gunfire, blood and broken bones. Failing that, the gory mayhem had better be something special - something that breaks new ground in terms of action cinema. John Wick Chapter 2 is relentlessly violent, Keanu Reeves' eponymous hitman laying waste to almost everyone he crosses paths with, once again finishing most victims with a shot to the head, but the action is simply more of the same, director Chad Stahelski bringing nothing new to the table.\", '<3-hop>\\n\\n: 17\\nReview: There are actually quite a handful reasons why \"John Wick\" could have become a failure. The two directors have never made a film before and almost exclusively worked in the stunt department so far. The writer is not exactly experienced either. Lead actor Keanu Reeves usually scores more through boyish charm than through realistic portrayal of gritty badass characters. And the genre of crime action thrillers rarely delivers in terms of real significance. Still it became a very good film. The main reason for that is probably that it does not attempt to be anything of great cinematic value, does not try to teach groundbreaking stories on moral, loyalty or betrayal. Instead, Derek Kolstad\\'s script goes for a gutsy revenge thriller that is not even hurt by its occasional predictability.']",
         "The movie reviews for 'John Wick' and 'John Wick Chapter 2' present contrasting opinions on the action scenes and overall cinematic experience. For 'John Wick,' the review highlights it as a surprising success despite initial low expectations due to the inexperience of the directors, writer, and Keanu Reeves' typical roles. It praises the film as a very good, gutsy revenge thriller that doesn't aim for great cinematic value or groundbreaking stories but delivers effectively within its genre. On the other hand, the review for 'John Wick Chapter 2' is more critical, noting that while it is relentlessly violent with Keanu Reeves' character taking down almost everyone, the action lacks innovation, with director Chad Stahelski bringing nothing new to the table. However, another review for an unspecified 'John Wick' movie, likely the first or a general sentiment, rates it a perfect 10/10, calling it amazing and one of the best action movies, with wonderfully choreographed fighting scenes and excellent acting by Keanu Reeves, recommending it highly to action movie fans. Thus, while the original 'John Wick' is celebrated for exceeding expectations and delivering memorable action, 'John Wick Chapter 2' is critiqued for not pushing boundaries in action cinema despite its intensity.",
         "multi_hop_abstract_query_synthesizer"
        ],
        [
         "5",
         "Hey, can u tell me how the reveng thriller vibe of John Wick holds up in the movie sequels, and if there’s any negativ review out there bout the latest one?",
         "[\"<1-hop>\\n\\n: 6\\nReview: In 2014, a Keanu Reeves revenge thriller John Wick became a surprise hit. I originally skipped out on the film as I felt that the trailers only showed an assassin story that I felt I've seen before. As far as I'm concerned, I made a big mistake. Before seeing the sequel, I felt it was important to watch the first one. I rented it on Amazon Prime and I was shock by what I saw; a dark, stylish, and fun action movie that is doing it's own thing. Though I've seen plenty stories about revenge (The Count of Monte Cristo and Moby Dick being the prime examples), I can't recall one over someone's pet being murdered.\", \"<2-hop>\\n\\n: 20\\nReview: In a world where movie sequels seem to be loathed even before they are released, the 'John Wick' series has remained remarkably consistent and well received. In fact all three of the first films have the same IMDb rating of 7.4/10 and I noticed recently that I gave them all the same rating of 8/10. Incredibly, I think 'John Wick: Chapter 4' is the best the series has to offer. This movie was a wild ride.\", \"<3-hop>\\n\\n: 22\\nReview: HORRIBLE movie. I love John Wick. I mean I wouldn't pay to see one, but I love the series none the less. Even liked the third one even though the ending blew baby chunks. All the 10s and 9s scores are so damn fake it's hilarious. IMDB is a joke. Someone needs to start a real movie database and weed out the fake high scores, it's as ridiculous as John Wick 4. He walks away from every major injury or collision or building fall. Then he passes away from flesh wounds. What nonsense. The whole plot is nonsense. The fights scene are so boring. I got up to make a sandwich twice. Just the typical 100 judo throws and same shots to head. Numerous coup de grace's. I feel sorry for anyone who paid for this nonsense.\"]",
         "The revenge thriller vibe of John Wick holds up strong in the movie sequels, as the series has remained remarkably consistent and well-received. All three of the first films have an IMDb rating of 7.4/10, and 'John Wick: Chapter 4' is considered by some to be the best in the series, described as a wild ride. However, there are negative reviews about the latest one, 'John Wick: Chapter 4.' One reviewer called it a horrible movie, criticizing the nonsensical plot, boring fight scenes with repetitive moves, and unrealistic elements like the protagonist walking away from major injuries only to pass away from minor wounds. They also expressed frustration over fake high scores on IMDb and felt sorry for anyone who paid to see it.",
         "multi_hop_abstract_query_synthesizer"
        ],
        [
         "6",
         "How dose the portrayal of Keanu Reeves as a retiered assassin in John Wick 3 differ from his role in the earlier films, considering the over-the-top action and personal tragedy themes?",
         "[\"<1-hop>\\n\\n: 16\\nReview: John Wick 3 is without a doubt the best action movie to have come out in a few years. And its so surprising and refreshing to see that movies like this still exist. Most action movies you see is filled with ridiculous amounts of shaky-cam, fast edits and way over-the-top fights. This is perfect. You can see all action clear as day, and by god the stuns in this film are extraordinary. Why the Academy Awards don't award talent like this is beyond me. There were times that I wondered if they had used CGI, because someone nuts must be willing to throw themselves from motorbikes and through glass. But whatever case it is, its a dam joy to watch.\", '<2-hop>\\n\\n: 4\\nReview: Though he no longer has a taste for wet work, retired assassin and \"Boogeyman\" John Wick has suffered a personal tragedy that\\'s left a huge void in his life. When he and his dog (really the last meaningful thing he has left) fall victim to a scummy group of Russian mobsters, he emerges from his shell with vengeance on his mind. Slow and ambiguous at first, but reveals more as it goes along, and once it kicks into gear it rarely lets up with plenty of stylized, visceral action scenes, an impressive arsenal of weaponry, plus sly direction and editing that give it the feel of a violent music video at times. Preposterously fun to watch, it just doesn\\'t have much of a story at its disposal, not to mention all the over-the-top bloodletting and mayhem eventually becomes redundant. Savvy, indestructible Reeves looks right at home, and delivers many of his lines with a sardonic wit. **½', '<3-hop>\\n\\n: 0\\nReview: No doubt about it, \"John Wick: Chapter 2\" is a slick action thriller, but man, oh man, how can any one person absorb that kind of punishment? John (Keanu Reeves) gets shot, stabbed and hit by cars multiple times and postures a limp now and then to indicate he might have gotten just a little bit hurt. Besides that, he almost never makes a wrong move when hunted by dozens of assassins all at the same time. Okay, I get it, Reeves is the star of the picture and has to come out on top, but I\\'d like a little more credibility put into these kinds of stories. But I guess that\\'s the whole point, suspend your disbelief for a couple of hours and just go with all of the over the top action the film makers can put together.']",
         "In John Wick 3, Keanu Reeves' portrayal as a retired assassin continues to emphasize extraordinary action and stunts, with clear, refreshing visuals that stand out compared to typical action movies filled with shaky-cam and fast edits, as noted in the review. This differs from earlier films like the first John Wick, where his character emerges from retirement due to personal tragedy—specifically the loss related to his dog and a void in his life—driving him into vengeance with stylized, visceral action scenes that eventually become redundant. Additionally, in 'John Wick: Chapter 2,' while the action remains slick and over-the-top, there is a lack of credibility in how much punishment Reeves' character endures without significant consequence, contrasting with the focus on pure action spectacle in John Wick 3.",
         "multi_hop_abstract_query_synthesizer"
        ],
        [
         "7",
         "How do the reviws compare the hybrid comic book-video game elements and the action movie aspects of the John Wick series, especialy between the original and its sequels?",
         "[\"<1-hop>\\n\\n: 9\\nReview: ...all at the same time. This hybrid comic book-video game has a stupid plot, worse than average acting, and fight scenes that are so poorly done you don't mind going to the bathroom. Don't get me wrong. I loved John Wick 1. Thought #2 was OK. Then came #3., It showed they were out of imagination and should have stopped with #2. Now with #4 they show that they are not artists or creatives but merely clowns looking for as buck.\", '<2-hop>\\n\\n: 21\\nReview: Wow, this is one of the best action movies that I have seen in quite some time. It is really what I was hoping for in a good old fashion action movie that was done entirely on hand to hand combat and gun shootings. This is a wonderful kick-ass movie where the killings were done so brutally with lots of bloody scenes. It also kind of remind me of the various one man army movies in the 80s played by Sylvester Stallone or Arnold Schwarzenegger. If you have seen John Wick the original (which I hope you have seen it before you see this one), then you will be amazed with this sequel. It was bloodier, more fighting, more assassins trying to kill John and longer running time. What I can say is this is an even better version than the original movie. Although in term of story, there is a bit of a more complexity in the sequel as opposed to the simplicity of the original movie.']",
         "The reviews present contrasting opinions on the John Wick series when comparing the hybrid comic book-video game elements and the action movie aspects. One review criticizes the series as a hybrid comic book-video game with a 'stupid plot, worse than average acting, and poorly done fight scenes,' suggesting a lack of creativity and imagination, particularly in the later sequels like John Wick 3 and 4, which are seen as mere cash grabs rather than artistic endeavors. In contrast, another review praises the action movie aspects of a John Wick sequel, describing it as one of the best action movies with intense hand-to-hand combat and gun shootings, reminiscent of 80s one-man army films by Sylvester Stallone or Arnold Schwarzenegger. This review highlights the sequel as bloodier, with more fighting and a longer running time, making it an even better version than the original, though it notes a slightly more complex story compared to the simplicity of the first film.",
         "multi_hop_abstract_query_synthesizer"
        ],
        [
         "8",
         "Considering the evolution of the John Wick franchise, how has the portrayal of John as a character changed from 'John Wick: Chapter 2' to the fourth chapter in terms of his resilience and believability, and what impact has this had on the overall identity of the series according to the reviews?",
         "['<1-hop>\\n\\n: 4\\nReview: I went to the cinema with great expectations. I have to admit that the photography is gorgeous, the locations are wonderful and the action sequences are well coordinated. However I feel that the true identity of this franchise was completely lost with this fourth chapter. The first two movies for me are the best because the stunts look more credible. \"Parabellum\" started to drop in quality, but it was still a solid flick. Here John suddenly became a superhero that can take any hit and can fall from every height and he can just keep going like nothing happened. When Chad Stahelski directed the first movie he was not expecting all this success and when the production company ordered sequels, he did not really know how to develop this saga. Now it is one of the biggest action franchises with a TV show that will be aired in the future and maybe with a 5th entry that was already approved. This got definitely out of hand and Wick basically became the parody of himself, with scenes that have forced comedic moments that do not quite deliver. In my perspective they really do not know what to invent anymore. I really hope that in the future screenwriters and the director will come up with better ideas, because it is a series with potential and it showed it in the previous chapters, but in this case it just felt pointless and purposeless.', '<2-hop>\\n\\n: 0\\nReview: No doubt about it, \"John Wick: Chapter 2\" is a slick action thriller, but man, oh man, how can any one person absorb that kind of punishment? John (Keanu Reeves) gets shot, stabbed and hit by cars multiple times and postures a limp now and then to indicate he might have gotten just a little bit hurt. Besides that, he almost never makes a wrong move when hunted by dozens of assassins all at the same time. Okay, I get it, Reeves is the star of the picture and has to come out on top, but I\\'d like a little more credibility put into these kinds of stories. But I guess that\\'s the whole point, suspend your disbelief for a couple of hours and just go with all of the over the top action the film makers can put together.']",
         "In 'John Wick: Chapter 2,' John, portrayed by Keanu Reeves, is depicted as a highly resilient character who endures significant physical punishment, including being shot, stabbed, and hit by cars multiple times, yet continues with only minimal indication of injury, such as a limp. The reviewer notes a desire for more credibility despite acknowledging the need to suspend disbelief for the over-the-top action. By the fourth chapter, however, John's resilience has escalated to an almost superhero-like level, where he can take any hit and fall from great heights without apparent consequence, as per the review. This shift has led to a perceived loss of the franchise's true identity, with the character becoming a parody of himself, incorporating forced comedic moments that fail to deliver. The reviewer of the fourth chapter expresses disappointment, suggesting that the series has become pointless and purposeless, a stark contrast to the potential shown in earlier films, indicating a significant negative impact on the overall identity of the John Wick series.",
         "multi_hop_specific_query_synthesizer"
        ],
        [
         "9",
         "What makes John Wick: Chapter 4 stand out as the best in the series according to reviews, and how does it continue the tradition of action in the franchise?",
         "[\"<1-hop>\\n\\n: 20\\nReview: In a world where movie sequels seem to be loathed even before they are released, the 'John Wick' series has remained remarkably consistent and well received. In fact all three of the first films have the same IMDb rating of 7.4/10 and I noticed recently that I gave them all the same rating of 8/10. Incredibly, I think 'John Wick: Chapter 4' is the best the series has to offer. This movie was a wild ride.\", \"<2-hop>\\n\\n: 19\\nReview: John Wick: Chapter 4 picks up where Chapter 3: Parabellum left off. As has been the tradition in the sequels to this beloved martial arts action franchise the action starts from the very inception of the film's opening, and lasts until the curtain falls. JW4 is no exception to that rule. What it does do is improve on the prior installment, and solidify Keanu Reeves as the greatest martial arts action star of all time. If you don't accept that notion, then you must accept the fact that it solidifies Reeves and Director, Chad Stahelski, as the greatest martial arts action pairing of modern times.\"]",
         "John Wick: Chapter 4 is considered the best in the series due to its remarkable consistency and improvement over the prior installment, as noted in reviews. It is described as a 'wild ride' and solidifies Keanu Reeves as the greatest martial arts action star of all time, or at least cements the pairing of Reeves and Director Chad Stahelski as the greatest martial arts action duo of modern times. Additionally, it continues the franchise's tradition of starting the action from the very beginning of the film and sustaining it until the end, following the pattern set by previous sequels.",
         "multi_hop_specific_query_synthesizer"
        ],
        [
         "10",
         "What makes the John Wick franchise stand out as a benchmark for action filmmaking in Hollywood, and how does the fourth film in the series meet the high expectations set by its predecessors?",
         "[\"<1-hop>\\n\\n: 10\\nReview: Most American action flicks released these days have poor screenplays and overuse computer-generated imagery. The John Wick franchise is one of the few exceptions, along with Mission Impossible. These franchises keep getting better with every entry. Hollywood can make action masterpieces, but Marvel has greater demand, so that's what we get most of. It's a shame.\", \"<2-hop>\\n\\n: 18\\nReview: Ever since the original John Wick, the franchise has set a standard of what action in Hollywood should be. Thanks to Chad Stahelski and Keanu Reeve's knowledge of the technical aspects of shooting action, they've been able to deliver expertly choreographed, shot, and edited action films that are now the go to as examples of great action filmmaking. And so, the expectations for the fourth film were fairly high, especially as it became more apparent this was not only the culmination of everything before it, but a whopping 169 minutes long. Rest assured, however, that it delivers in spades. Everything we have come to know and love is here, but with an infusion of creativity like we haven't seen from the franchise yet.\"]",
         "The John Wick franchise stands out as a benchmark for action filmmaking in Hollywood due to its expertly choreographed, shot, and edited action sequences, largely attributed to Chad Stahelski and Keanu Reeves' deep understanding of the technical aspects of shooting action. Unlike many American action flicks that suffer from poor screenplays and overuse of CGI, John Wick, along with Mission Impossible, consistently improves with each entry, setting a high standard for the genre. Specifically, the fourth film, with its 169-minute runtime, meets these high expectations by delivering everything fans have come to know and love about the series, while also introducing an infusion of creativity that surpasses previous entries in the franchise.",
         "multi_hop_specific_query_synthesizer"
        ],
        [
         "11",
         "Hey, can u tell me how the revues for John Wick Chapter 2 and John Wick 2 differ in ther opinions on the movie's quality and entertainment value, especialy considerin the action and overal experience of this film in the franchise?",
         "[\"<1-hop>\\n\\n: 16\\nReview: John Wick Chapter 2 pits Keanu Reeves' titular character against the mean and nefarious of the criminal underworld. Once again, Reeves proves that he is a force to be reckoned with in this ridiculous, over-the-top sequel that is every bit as fun as the original. These types of films are rarely known for their artistic value but John Wick: Chapter 2 sets the bar pretty high, not only in its action, but in it's set design and camera work. This is pure escapist entertainment and couldn't have come at a better time. Those wanting to take a break from watching the Oscar nominees, this film is exactly what you're looking for.\", \"<2-hop>\\n\\n: 9\\nReview: ...all at the same time. This hybrid comic book-video game has a stupid plot, worse than average acting, and fight scenes that are so poorly done you don't mind going to the bathroom. Don't get me wrong. I loved John Wick 1. Thought #2 was OK. Then came #3., It showed they were out of imagination and should have stopped with #2. Now with #4 they show that they are not artists or creatives but merely clowns looking for as buck.\"]",
         "The reviews for John Wick Chapter 2, also referred to as John Wick 2, present contrasting opinions on the movie's quality and entertainment value. One review praises the film as a 'ridiculous, over-the-top sequel' that matches the fun of the original, highlighting Keanu Reeves' performance as a force to be reckoned with. It also commends the action, set design, and camera work, setting a high bar for escapist entertainment, ideal for those seeking a break from more serious films. In contrast, another review is far more critical, describing the franchise, including this installment, as having a 'stupid plot' and 'worse than average acting,' with poorly executed fight scenes. This reviewer expresses disappointment, noting that while they loved the first film and found the second 'OK,' the subsequent entries indicate a lack of imagination, suggesting the series should have ended with the second movie.",
         "multi_hop_specific_query_synthesizer"
        ]
       ],
       "shape": {
        "columns": 4,
        "rows": 12
       }
      },
      "text/html": [
       "<div>\n",
       "<style scoped>\n",
       "    .dataframe tbody tr th:only-of-type {\n",
       "        vertical-align: middle;\n",
       "    }\n",
       "\n",
       "    .dataframe tbody tr th {\n",
       "        vertical-align: top;\n",
       "    }\n",
       "\n",
       "    .dataframe thead th {\n",
       "        text-align: right;\n",
       "    }\n",
       "</style>\n",
       "<table border=\"1\" class=\"dataframe\">\n",
       "  <thead>\n",
       "    <tr style=\"text-align: right;\">\n",
       "      <th></th>\n",
       "      <th>user_input</th>\n",
       "      <th>reference_contexts</th>\n",
       "      <th>reference</th>\n",
       "      <th>synthesizer_name</th>\n",
       "    </tr>\n",
       "  </thead>\n",
       "  <tbody>\n",
       "    <tr>\n",
       "      <th>0</th>\n",
       "      <td>Hey, can u tell me what’s the deal with John W...</td>\n",
       "      <td>[: 0\\nReview: The best way I can describe John...</td>\n",
       "      <td>John Wick is basically like Taken, but with Ke...</td>\n",
       "      <td>single_hop_specifc_query_synthesizer</td>\n",
       "    </tr>\n",
       "    <tr>\n",
       "      <th>1</th>\n",
       "      <td>What does Cinematic Critic Carl think about Jo...</td>\n",
       "      <td>[: 2\\nReview: With the fourth installment scor...</td>\n",
       "      <td>Cinematic Critic Carl mentions that with the f...</td>\n",
       "      <td>single_hop_specifc_query_synthesizer</td>\n",
       "    </tr>\n",
       "    <tr>\n",
       "      <th>2</th>\n",
       "      <td>What makes John Wick stand out as an action mo...</td>\n",
       "      <td>[: 3\\nReview: John wick has a very simple reve...</td>\n",
       "      <td>John Wick stands out due to its virtuoso actio...</td>\n",
       "      <td>single_hop_specifc_query_synthesizer</td>\n",
       "    </tr>\n",
       "    <tr>\n",
       "      <th>3</th>\n",
       "      <td>What role do Russian mobsters play in John Wick?</td>\n",
       "      <td>[: 4\\nReview: Though he no longer has a taste ...</td>\n",
       "      <td>In John Wick, Russian mobsters are the antagon...</td>\n",
       "      <td>single_hop_specifc_query_synthesizer</td>\n",
       "    </tr>\n",
       "    <tr>\n",
       "      <th>4</th>\n",
       "      <td>Heyy, can sum1 plz tell me how da movie revues...</td>\n",
       "      <td>[&lt;1-hop&gt;\\n\\n: 23\\nReview: Rating 10/10\\nI was ...</td>\n",
       "      <td>The movie reviews for 'John Wick' and 'John Wi...</td>\n",
       "      <td>multi_hop_abstract_query_synthesizer</td>\n",
       "    </tr>\n",
       "    <tr>\n",
       "      <th>5</th>\n",
       "      <td>Hey, can u tell me how the reveng thriller vib...</td>\n",
       "      <td>[&lt;1-hop&gt;\\n\\n: 6\\nReview: In 2014, a Keanu Reev...</td>\n",
       "      <td>The revenge thriller vibe of John Wick holds u...</td>\n",
       "      <td>multi_hop_abstract_query_synthesizer</td>\n",
       "    </tr>\n",
       "    <tr>\n",
       "      <th>6</th>\n",
       "      <td>How dose the portrayal of Keanu Reeves as a re...</td>\n",
       "      <td>[&lt;1-hop&gt;\\n\\n: 16\\nReview: John Wick 3 is witho...</td>\n",
       "      <td>In John Wick 3, Keanu Reeves' portrayal as a r...</td>\n",
       "      <td>multi_hop_abstract_query_synthesizer</td>\n",
       "    </tr>\n",
       "    <tr>\n",
       "      <th>7</th>\n",
       "      <td>How do the reviws compare the hybrid comic boo...</td>\n",
       "      <td>[&lt;1-hop&gt;\\n\\n: 9\\nReview: ...all at the same ti...</td>\n",
       "      <td>The reviews present contrasting opinions on th...</td>\n",
       "      <td>multi_hop_abstract_query_synthesizer</td>\n",
       "    </tr>\n",
       "    <tr>\n",
       "      <th>8</th>\n",
       "      <td>Considering the evolution of the John Wick fra...</td>\n",
       "      <td>[&lt;1-hop&gt;\\n\\n: 4\\nReview: I went to the cinema ...</td>\n",
       "      <td>In 'John Wick: Chapter 2,' John, portrayed by ...</td>\n",
       "      <td>multi_hop_specific_query_synthesizer</td>\n",
       "    </tr>\n",
       "    <tr>\n",
       "      <th>9</th>\n",
       "      <td>What makes John Wick: Chapter 4 stand out as t...</td>\n",
       "      <td>[&lt;1-hop&gt;\\n\\n: 20\\nReview: In a world where mov...</td>\n",
       "      <td>John Wick: Chapter 4 is considered the best in...</td>\n",
       "      <td>multi_hop_specific_query_synthesizer</td>\n",
       "    </tr>\n",
       "    <tr>\n",
       "      <th>10</th>\n",
       "      <td>What makes the John Wick franchise stand out a...</td>\n",
       "      <td>[&lt;1-hop&gt;\\n\\n: 10\\nReview: Most American action...</td>\n",
       "      <td>The John Wick franchise stands out as a benchm...</td>\n",
       "      <td>multi_hop_specific_query_synthesizer</td>\n",
       "    </tr>\n",
       "    <tr>\n",
       "      <th>11</th>\n",
       "      <td>Hey, can u tell me how the revues for John Wic...</td>\n",
       "      <td>[&lt;1-hop&gt;\\n\\n: 16\\nReview: John Wick Chapter 2 ...</td>\n",
       "      <td>The reviews for John Wick Chapter 2, also refe...</td>\n",
       "      <td>multi_hop_specific_query_synthesizer</td>\n",
       "    </tr>\n",
       "  </tbody>\n",
       "</table>\n",
       "</div>"
      ],
      "text/plain": [
       "                                           user_input  \\\n",
       "0   Hey, can u tell me what’s the deal with John W...   \n",
       "1   What does Cinematic Critic Carl think about Jo...   \n",
       "2   What makes John Wick stand out as an action mo...   \n",
       "3    What role do Russian mobsters play in John Wick?   \n",
       "4   Heyy, can sum1 plz tell me how da movie revues...   \n",
       "5   Hey, can u tell me how the reveng thriller vib...   \n",
       "6   How dose the portrayal of Keanu Reeves as a re...   \n",
       "7   How do the reviws compare the hybrid comic boo...   \n",
       "8   Considering the evolution of the John Wick fra...   \n",
       "9   What makes John Wick: Chapter 4 stand out as t...   \n",
       "10  What makes the John Wick franchise stand out a...   \n",
       "11  Hey, can u tell me how the revues for John Wic...   \n",
       "\n",
       "                                   reference_contexts  \\\n",
       "0   [: 0\\nReview: The best way I can describe John...   \n",
       "1   [: 2\\nReview: With the fourth installment scor...   \n",
       "2   [: 3\\nReview: John wick has a very simple reve...   \n",
       "3   [: 4\\nReview: Though he no longer has a taste ...   \n",
       "4   [<1-hop>\\n\\n: 23\\nReview: Rating 10/10\\nI was ...   \n",
       "5   [<1-hop>\\n\\n: 6\\nReview: In 2014, a Keanu Reev...   \n",
       "6   [<1-hop>\\n\\n: 16\\nReview: John Wick 3 is witho...   \n",
       "7   [<1-hop>\\n\\n: 9\\nReview: ...all at the same ti...   \n",
       "8   [<1-hop>\\n\\n: 4\\nReview: I went to the cinema ...   \n",
       "9   [<1-hop>\\n\\n: 20\\nReview: In a world where mov...   \n",
       "10  [<1-hop>\\n\\n: 10\\nReview: Most American action...   \n",
       "11  [<1-hop>\\n\\n: 16\\nReview: John Wick Chapter 2 ...   \n",
       "\n",
       "                                            reference  \\\n",
       "0   John Wick is basically like Taken, but with Ke...   \n",
       "1   Cinematic Critic Carl mentions that with the f...   \n",
       "2   John Wick stands out due to its virtuoso actio...   \n",
       "3   In John Wick, Russian mobsters are the antagon...   \n",
       "4   The movie reviews for 'John Wick' and 'John Wi...   \n",
       "5   The revenge thriller vibe of John Wick holds u...   \n",
       "6   In John Wick 3, Keanu Reeves' portrayal as a r...   \n",
       "7   The reviews present contrasting opinions on th...   \n",
       "8   In 'John Wick: Chapter 2,' John, portrayed by ...   \n",
       "9   John Wick: Chapter 4 is considered the best in...   \n",
       "10  The John Wick franchise stands out as a benchm...   \n",
       "11  The reviews for John Wick Chapter 2, also refe...   \n",
       "\n",
       "                        synthesizer_name  \n",
       "0   single_hop_specifc_query_synthesizer  \n",
       "1   single_hop_specifc_query_synthesizer  \n",
       "2   single_hop_specifc_query_synthesizer  \n",
       "3   single_hop_specifc_query_synthesizer  \n",
       "4   multi_hop_abstract_query_synthesizer  \n",
       "5   multi_hop_abstract_query_synthesizer  \n",
       "6   multi_hop_abstract_query_synthesizer  \n",
       "7   multi_hop_abstract_query_synthesizer  \n",
       "8   multi_hop_specific_query_synthesizer  \n",
       "9   multi_hop_specific_query_synthesizer  \n",
       "10  multi_hop_specific_query_synthesizer  \n",
       "11  multi_hop_specific_query_synthesizer  "
      ]
     },
     "execution_count": 17,
     "metadata": {},
     "output_type": "execute_result"
    }
   ],
   "source": [
    "dataset.to_pandas()"
   ]
  }
 ],
 "metadata": {
  "kernelspec": {
   "display_name": ".venv",
   "language": "python",
   "name": "python3"
  },
  "language_info": {
   "codemirror_mode": {
    "name": "ipython",
    "version": 3
   },
   "file_extension": ".py",
   "mimetype": "text/x-python",
   "name": "python",
   "nbconvert_exporter": "python",
   "pygments_lexer": "ipython3",
   "version": "3.13.2"
  }
 },
 "nbformat": 4,
 "nbformat_minor": 5
}
